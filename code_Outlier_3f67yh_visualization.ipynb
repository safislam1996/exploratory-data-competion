{
 "cells": [
  {
   "cell_type": "code",
   "execution_count": 1,
   "id": "e96ffe31",
   "metadata": {},
   "outputs": [],
   "source": [
    "import pandas as pd\n",
    "import numpy as np\n",
    "import matplotlib.pyplot as plt\n",
    "import seaborn as sns\n",
    "import plotly.express as px"
   ]
  },
  {
   "cell_type": "code",
   "execution_count": 2,
   "id": "d0b270e4",
   "metadata": {},
   "outputs": [],
   "source": [
    "df=pd.read_csv('datasets/train.csv',index_col=False)"
   ]
  },
  {
   "cell_type": "code",
   "execution_count": 3,
   "id": "7de48342",
   "metadata": {},
   "outputs": [
    {
     "data": {
      "text/plain": [
       "Index(['id', 'gender', 's11', 's12', 's13', 's16', 's17', 's18', 's48', 's52',\n",
       "       's53', 's54', 's55', 's56', 's57', 's58', 's59', 's69', 's70', 's71',\n",
       "       'n1', 'n2', 'n3', 'n4', 'n5', 'n6', 'n7', 'n8', 'n9', 'n10', 'n11',\n",
       "       'n12', 'n13', 'n14', 'n15', 'label'],\n",
       "      dtype='object')"
      ]
     },
     "execution_count": 3,
     "metadata": {},
     "output_type": "execute_result"
    }
   ],
   "source": [
    "df.columns"
   ]
  },
  {
   "cell_type": "code",
   "execution_count": 4,
   "id": "60069bf4",
   "metadata": {},
   "outputs": [
    {
     "data": {
      "text/html": [
       "<div>\n",
       "<style scoped>\n",
       "    .dataframe tbody tr th:only-of-type {\n",
       "        vertical-align: middle;\n",
       "    }\n",
       "\n",
       "    .dataframe tbody tr th {\n",
       "        vertical-align: top;\n",
       "    }\n",
       "\n",
       "    .dataframe thead th {\n",
       "        text-align: right;\n",
       "    }\n",
       "</style>\n",
       "<table border=\"1\" class=\"dataframe\">\n",
       "  <thead>\n",
       "    <tr style=\"text-align: right;\">\n",
       "      <th></th>\n",
       "      <th>id</th>\n",
       "      <th>gender</th>\n",
       "      <th>s11</th>\n",
       "      <th>s12</th>\n",
       "      <th>s13</th>\n",
       "      <th>s16</th>\n",
       "      <th>s17</th>\n",
       "      <th>s18</th>\n",
       "      <th>s48</th>\n",
       "      <th>s52</th>\n",
       "      <th>...</th>\n",
       "      <th>n7</th>\n",
       "      <th>n8</th>\n",
       "      <th>n9</th>\n",
       "      <th>n10</th>\n",
       "      <th>n11</th>\n",
       "      <th>n12</th>\n",
       "      <th>n13</th>\n",
       "      <th>n14</th>\n",
       "      <th>n15</th>\n",
       "      <th>label</th>\n",
       "    </tr>\n",
       "  </thead>\n",
       "  <tbody>\n",
       "    <tr>\n",
       "      <th>0</th>\n",
       "      <td>b'gAAAAABinOicS09vrmgh0_JyEHihI13ptO0rCyHP7l76...</td>\n",
       "      <td>M</td>\n",
       "      <td>Y</td>\n",
       "      <td>N</td>\n",
       "      <td>1</td>\n",
       "      <td>D</td>\n",
       "      <td>D</td>\n",
       "      <td>B</td>\n",
       "      <td>0</td>\n",
       "      <td>1</td>\n",
       "      <td>...</td>\n",
       "      <td>-9.126056</td>\n",
       "      <td>1.732291</td>\n",
       "      <td>3.698504</td>\n",
       "      <td>4.804517</td>\n",
       "      <td>1.544484</td>\n",
       "      <td>0</td>\n",
       "      <td>0</td>\n",
       "      <td>0.631220</td>\n",
       "      <td>5</td>\n",
       "      <td>0</td>\n",
       "    </tr>\n",
       "    <tr>\n",
       "      <th>1</th>\n",
       "      <td>b'gAAAAABinOiWGC1WhR6WYP0DA5ssGv9rIekrWUwCdJ8F...</td>\n",
       "      <td>M</td>\n",
       "      <td>Y</td>\n",
       "      <td>Y</td>\n",
       "      <td>1</td>\n",
       "      <td>D</td>\n",
       "      <td>D</td>\n",
       "      <td>B</td>\n",
       "      <td>1</td>\n",
       "      <td>1</td>\n",
       "      <td>...</td>\n",
       "      <td>-9.098287</td>\n",
       "      <td>1.505885</td>\n",
       "      <td>6.791357</td>\n",
       "      <td>6.110416</td>\n",
       "      <td>1.712354</td>\n",
       "      <td>0</td>\n",
       "      <td>0</td>\n",
       "      <td>0.392746</td>\n",
       "      <td>3</td>\n",
       "      <td>1</td>\n",
       "    </tr>\n",
       "    <tr>\n",
       "      <th>2</th>\n",
       "      <td>b'gAAAAABinOibTcOBFIVeA4nVF3FuFz_QX3ZlPPFc21gS...</td>\n",
       "      <td>M</td>\n",
       "      <td>Y</td>\n",
       "      <td>Y</td>\n",
       "      <td>1</td>\n",
       "      <td>D</td>\n",
       "      <td>D</td>\n",
       "      <td>B</td>\n",
       "      <td>0</td>\n",
       "      <td>1</td>\n",
       "      <td>...</td>\n",
       "      <td>-9.234894</td>\n",
       "      <td>1.503828</td>\n",
       "      <td>4.109685</td>\n",
       "      <td>3.953226</td>\n",
       "      <td>1.804260</td>\n",
       "      <td>0</td>\n",
       "      <td>0</td>\n",
       "      <td>0.222537</td>\n",
       "      <td>2</td>\n",
       "      <td>0</td>\n",
       "    </tr>\n",
       "    <tr>\n",
       "      <th>3</th>\n",
       "      <td>b'gAAAAABinOig-g3-Q1ggjlMhfUSdn21Aj5yVVeVvXbis...</td>\n",
       "      <td>F</td>\n",
       "      <td>Y</td>\n",
       "      <td>Y</td>\n",
       "      <td>1</td>\n",
       "      <td>D</td>\n",
       "      <td>D</td>\n",
       "      <td>B</td>\n",
       "      <td>0</td>\n",
       "      <td>1</td>\n",
       "      <td>...</td>\n",
       "      <td>-9.378025</td>\n",
       "      <td>1.485863</td>\n",
       "      <td>7.265876</td>\n",
       "      <td>4.559419</td>\n",
       "      <td>1.537645</td>\n",
       "      <td>0</td>\n",
       "      <td>0</td>\n",
       "      <td>0.154409</td>\n",
       "      <td>4</td>\n",
       "      <td>0</td>\n",
       "    </tr>\n",
       "    <tr>\n",
       "      <th>4</th>\n",
       "      <td>b'gAAAAABinOiXdoaNUzihOSbyY1tjWtd5EgMaXkkvH6SV...</td>\n",
       "      <td>M</td>\n",
       "      <td>N</td>\n",
       "      <td>Y</td>\n",
       "      <td>1</td>\n",
       "      <td>B</td>\n",
       "      <td>D</td>\n",
       "      <td>D</td>\n",
       "      <td>1</td>\n",
       "      <td>l</td>\n",
       "      <td>...</td>\n",
       "      <td>-9.261962</td>\n",
       "      <td>1.619210</td>\n",
       "      <td>3.737647</td>\n",
       "      <td>4.052003</td>\n",
       "      <td>1.637831</td>\n",
       "      <td>0</td>\n",
       "      <td>1</td>\n",
       "      <td>0.737560</td>\n",
       "      <td>1</td>\n",
       "      <td>0</td>\n",
       "    </tr>\n",
       "  </tbody>\n",
       "</table>\n",
       "<p>5 rows × 36 columns</p>\n",
       "</div>"
      ],
      "text/plain": [
       "                                                  id gender s11 s12  s13 s16  \\\n",
       "0  b'gAAAAABinOicS09vrmgh0_JyEHihI13ptO0rCyHP7l76...      M   Y   N    1   D   \n",
       "1  b'gAAAAABinOiWGC1WhR6WYP0DA5ssGv9rIekrWUwCdJ8F...      M   Y   Y    1   D   \n",
       "2  b'gAAAAABinOibTcOBFIVeA4nVF3FuFz_QX3ZlPPFc21gS...      M   Y   Y    1   D   \n",
       "3  b'gAAAAABinOig-g3-Q1ggjlMhfUSdn21Aj5yVVeVvXbis...      F   Y   Y    1   D   \n",
       "4  b'gAAAAABinOiXdoaNUzihOSbyY1tjWtd5EgMaXkkvH6SV...      M   N   Y    1   B   \n",
       "\n",
       "  s17 s18  s48 s52  ...        n7        n8        n9       n10       n11 n12  \\\n",
       "0   D   B    0   1  ... -9.126056  1.732291  3.698504  4.804517  1.544484   0   \n",
       "1   D   B    1   1  ... -9.098287  1.505885  6.791357  6.110416  1.712354   0   \n",
       "2   D   B    0   1  ... -9.234894  1.503828  4.109685  3.953226  1.804260   0   \n",
       "3   D   B    0   1  ... -9.378025  1.485863  7.265876  4.559419  1.537645   0   \n",
       "4   D   D    1   l  ... -9.261962  1.619210  3.737647  4.052003  1.637831   0   \n",
       "\n",
       "   n13       n14 n15 label  \n",
       "0    0  0.631220   5     0  \n",
       "1    0  0.392746   3     1  \n",
       "2    0  0.222537   2     0  \n",
       "3    0  0.154409   4     0  \n",
       "4    1  0.737560   1     0  \n",
       "\n",
       "[5 rows x 36 columns]"
      ]
     },
     "execution_count": 4,
     "metadata": {},
     "output_type": "execute_result"
    }
   ],
   "source": [
    "df.head()"
   ]
  },
  {
   "cell_type": "code",
   "execution_count": 87,
   "id": "b5204ff6",
   "metadata": {},
   "outputs": [],
   "source": [
    "perc = 20.0 # Like N %\n",
    "min_count =  int(((100-perc)/100)*df.shape[0] + 1)\n",
    "df = df.dropna( axis=1,thresh=min_count)"
   ]
  },
  {
   "cell_type": "code",
   "execution_count": 83,
   "id": "ba3b81e2",
   "metadata": {},
   "outputs": [
    {
     "data": {
      "text/plain": [
       "(28322, 33)"
      ]
     },
     "execution_count": 83,
     "metadata": {},
     "output_type": "execute_result"
    }
   ],
   "source": [
    "df.shape"
   ]
  },
  {
   "cell_type": "code",
   "execution_count": 5,
   "id": "33150c59",
   "metadata": {},
   "outputs": [
    {
     "data": {
      "text/html": [
       "<div>\n",
       "<style scoped>\n",
       "    .dataframe tbody tr th:only-of-type {\n",
       "        vertical-align: middle;\n",
       "    }\n",
       "\n",
       "    .dataframe tbody tr th {\n",
       "        vertical-align: top;\n",
       "    }\n",
       "\n",
       "    .dataframe thead th {\n",
       "        text-align: right;\n",
       "    }\n",
       "</style>\n",
       "<table border=\"1\" class=\"dataframe\">\n",
       "  <thead>\n",
       "    <tr style=\"text-align: right;\">\n",
       "      <th></th>\n",
       "      <th>s56</th>\n",
       "      <th>s57</th>\n",
       "      <th>s59</th>\n",
       "    </tr>\n",
       "  </thead>\n",
       "  <tbody>\n",
       "    <tr>\n",
       "      <th>0</th>\n",
       "      <td>NaN</td>\n",
       "      <td>NaN</td>\n",
       "      <td>NaN</td>\n",
       "    </tr>\n",
       "    <tr>\n",
       "      <th>1</th>\n",
       "      <td>NaN</td>\n",
       "      <td>NaN</td>\n",
       "      <td>NaN</td>\n",
       "    </tr>\n",
       "    <tr>\n",
       "      <th>2</th>\n",
       "      <td>NaN</td>\n",
       "      <td>NaN</td>\n",
       "      <td>NaN</td>\n",
       "    </tr>\n",
       "    <tr>\n",
       "      <th>3</th>\n",
       "      <td>NaN</td>\n",
       "      <td>NaN</td>\n",
       "      <td>NaN</td>\n",
       "    </tr>\n",
       "    <tr>\n",
       "      <th>4</th>\n",
       "      <td>NaN</td>\n",
       "      <td>NaN</td>\n",
       "      <td>NaN</td>\n",
       "    </tr>\n",
       "    <tr>\n",
       "      <th>...</th>\n",
       "      <td>...</td>\n",
       "      <td>...</td>\n",
       "      <td>...</td>\n",
       "    </tr>\n",
       "    <tr>\n",
       "      <th>28317</th>\n",
       "      <td>NaN</td>\n",
       "      <td>NaN</td>\n",
       "      <td>NaN</td>\n",
       "    </tr>\n",
       "    <tr>\n",
       "      <th>28318</th>\n",
       "      <td>NaN</td>\n",
       "      <td>NaN</td>\n",
       "      <td>NaN</td>\n",
       "    </tr>\n",
       "    <tr>\n",
       "      <th>28319</th>\n",
       "      <td>NaN</td>\n",
       "      <td>NaN</td>\n",
       "      <td>NaN</td>\n",
       "    </tr>\n",
       "    <tr>\n",
       "      <th>28320</th>\n",
       "      <td>NaN</td>\n",
       "      <td>NaN</td>\n",
       "      <td>NaN</td>\n",
       "    </tr>\n",
       "    <tr>\n",
       "      <th>28321</th>\n",
       "      <td>NaN</td>\n",
       "      <td>NaN</td>\n",
       "      <td>NaN</td>\n",
       "    </tr>\n",
       "  </tbody>\n",
       "</table>\n",
       "<p>28322 rows × 3 columns</p>\n",
       "</div>"
      ],
      "text/plain": [
       "       s56  s57  s59\n",
       "0      NaN  NaN  NaN\n",
       "1      NaN  NaN  NaN\n",
       "2      NaN  NaN  NaN\n",
       "3      NaN  NaN  NaN\n",
       "4      NaN  NaN  NaN\n",
       "...    ...  ...  ...\n",
       "28317  NaN  NaN  NaN\n",
       "28318  NaN  NaN  NaN\n",
       "28319  NaN  NaN  NaN\n",
       "28320  NaN  NaN  NaN\n",
       "28321  NaN  NaN  NaN\n",
       "\n",
       "[28322 rows x 3 columns]"
      ]
     },
     "execution_count": 5,
     "metadata": {},
     "output_type": "execute_result"
    }
   ],
   "source": [
    "df[['s56','s57','s59']]"
   ]
  },
  {
   "cell_type": "code",
   "execution_count": 88,
   "id": "ac2003e4",
   "metadata": {},
   "outputs": [
    {
     "data": {
      "text/plain": [
       "28322"
      ]
     },
     "execution_count": 88,
     "metadata": {},
     "output_type": "execute_result"
    }
   ],
   "source": [
    "df['id'].count()"
   ]
  },
  {
   "cell_type": "markdown",
   "id": "4eb74b04",
   "metadata": {},
   "source": [
    "s56,s57,d59 drop??\n",
    "s70 drop 'op:'\n",
    "s71 upper()\n"
   ]
  },
  {
   "cell_type": "code",
   "execution_count": 89,
   "id": "7ecda0d6",
   "metadata": {
    "scrolled": true
   },
   "outputs": [
    {
     "name": "stdout",
     "output_type": "stream",
     "text": [
      "id : [\"b'gAAAAABinOicS09vrmgh0_JyEHihI13ptO0rCyHP7l76be71PWA2ReUc4HUQn16Fya1z8_VStNnFGaXJF262CgsuMPzOaknSeg=='\"\n",
      " \"b'gAAAAABinOiWGC1WhR6WYP0DA5ssGv9rIekrWUwCdJ8FvkVcSUl2AquMfWqtOqs3AQYGxS13wQv9Tx4GEkPEl5RnbchazqsZcw=='\"\n",
      " \"b'gAAAAABinOibTcOBFIVeA4nVF3FuFz_QX3ZlPPFc21gS9EYdw6Wo8Y5agbzfD6hhsaXZCBdrUQVPpZBXYsODc2PDjER2DX5QcA=='\"\n",
      " ...\n",
      " \"b'gAAAAABinOicscC37w1W9uiIlYL1U5D_mUtmgdUg8QTlgTDiCQj0N8l5xVuD5tTmGrYgogJLq-v9Z6fCyGeAng__ulkRJQi-Xg=='\"\n",
      " \"b'gAAAAABinOib-JZ8iQDxjSRsa1dPT1TqeSQ_si4mAw5fX_kDmvIAkIofJCd_35viYIE5AhMTE-MYsS5yYkiD_9J6ewDjL1cYuQ=='\"\n",
      " \"b'gAAAAABinOiZ3mCQAtoJFXj-Ymjhi9FbbZ_Ypi5gDoAEYe1Cx66GhkhZ5UIJNLcPlgrRyfpabvIwD5ok1GxipWfkujjwXyMMBw=='\"]\n",
      "s11 : ['Y' 'N']\n",
      "s12 : ['N' 'Y']\n",
      "s13 : [1 0]\n",
      "s48 : [0 1]\n",
      "s52 : ['1' '0']\n",
      "s53 : ['  ' ' ']\n",
      "s58 : ['B' 'A']\n",
      "s69 : ['x' '~1' 'C`' '0']\n",
      "n1 : [16.145  7.145  6.923 ... 13.43  16.095  7.058]\n",
      "n2 : [1.989 0.845 1.042 ... 1.801 2.438 1.023]\n",
      "n3 : [2 3 6 9 7 8 4 0 5 1]\n",
      "n4 : [2.318 6.198 7.824 ... 7.763 6.943 5.942]\n",
      "n5 : [-32.839 -32.577 -32.511 ... -32.576 -32.578 -32.849]\n",
      "n6 : [0.017 0.014 0.014 ... 0.018 0.007 0.016]\n",
      "n7 : [-9.126 -9.098 -9.235 ... -9.234 -8.749 -9.281]\n",
      "n8 : [1.732 1.506 1.504 ... 1.456 2.074 1.49 ]\n",
      "n9 : [ 3.699  6.791  4.11  ...  2.9   10.673  3.57 ]\n",
      "n10 : [ 4.805  6.11   3.953 ...  6.059 11.388  4.585]\n",
      "n11 : [1.544 1.712 1.804 ... 1.627 1.56  1.778]\n",
      "n12 : [0 1]\n",
      "n13 : [0 1]\n",
      "n14 : [0.631 0.393 0.223 ... 0.827 0.104 0.435]\n",
      "n15 : [5 3 2 4 1 6 0]\n"
     ]
    },
    {
     "ename": "AttributeError",
     "evalue": "'DataFrame' object has no attribute 'unique'",
     "output_type": "error",
     "traceback": [
      "\u001b[1;31m---------------------------------------------------------------------------\u001b[0m",
      "\u001b[1;31mAttributeError\u001b[0m                            Traceback (most recent call last)",
      "\u001b[1;32m<ipython-input-89-39433d53d60f>\u001b[0m in \u001b[0;36m<module>\u001b[1;34m\u001b[0m\n\u001b[0;32m      1\u001b[0m \u001b[1;32mfor\u001b[0m \u001b[0mcol\u001b[0m \u001b[1;32min\u001b[0m \u001b[0mdf\u001b[0m\u001b[1;33m:\u001b[0m\u001b[1;33m\u001b[0m\u001b[1;33m\u001b[0m\u001b[0m\n\u001b[1;32m----> 2\u001b[1;33m     \u001b[0mprint\u001b[0m\u001b[1;33m(\u001b[0m\u001b[0mcol\u001b[0m\u001b[1;33m,\u001b[0m\u001b[1;34m':'\u001b[0m\u001b[1;33m,\u001b[0m\u001b[0mdf\u001b[0m\u001b[1;33m[\u001b[0m\u001b[0mcol\u001b[0m\u001b[1;33m]\u001b[0m\u001b[1;33m.\u001b[0m\u001b[0munique\u001b[0m\u001b[1;33m(\u001b[0m\u001b[1;33m)\u001b[0m\u001b[1;33m)\u001b[0m\u001b[1;33m\u001b[0m\u001b[1;33m\u001b[0m\u001b[0m\n\u001b[0m",
      "\u001b[1;32m~\\anaconda3\\lib\\site-packages\\pandas\\core\\generic.py\u001b[0m in \u001b[0;36m__getattr__\u001b[1;34m(self, name)\u001b[0m\n\u001b[0;32m   5463\u001b[0m             \u001b[1;32mif\u001b[0m \u001b[0mself\u001b[0m\u001b[1;33m.\u001b[0m\u001b[0m_info_axis\u001b[0m\u001b[1;33m.\u001b[0m\u001b[0m_can_hold_identifiers_and_holds_name\u001b[0m\u001b[1;33m(\u001b[0m\u001b[0mname\u001b[0m\u001b[1;33m)\u001b[0m\u001b[1;33m:\u001b[0m\u001b[1;33m\u001b[0m\u001b[1;33m\u001b[0m\u001b[0m\n\u001b[0;32m   5464\u001b[0m                 \u001b[1;32mreturn\u001b[0m \u001b[0mself\u001b[0m\u001b[1;33m[\u001b[0m\u001b[0mname\u001b[0m\u001b[1;33m]\u001b[0m\u001b[1;33m\u001b[0m\u001b[1;33m\u001b[0m\u001b[0m\n\u001b[1;32m-> 5465\u001b[1;33m             \u001b[1;32mreturn\u001b[0m \u001b[0mobject\u001b[0m\u001b[1;33m.\u001b[0m\u001b[0m__getattribute__\u001b[0m\u001b[1;33m(\u001b[0m\u001b[0mself\u001b[0m\u001b[1;33m,\u001b[0m \u001b[0mname\u001b[0m\u001b[1;33m)\u001b[0m\u001b[1;33m\u001b[0m\u001b[1;33m\u001b[0m\u001b[0m\n\u001b[0m\u001b[0;32m   5466\u001b[0m \u001b[1;33m\u001b[0m\u001b[0m\n\u001b[0;32m   5467\u001b[0m     \u001b[1;32mdef\u001b[0m \u001b[0m__setattr__\u001b[0m\u001b[1;33m(\u001b[0m\u001b[0mself\u001b[0m\u001b[1;33m,\u001b[0m \u001b[0mname\u001b[0m\u001b[1;33m:\u001b[0m \u001b[0mstr\u001b[0m\u001b[1;33m,\u001b[0m \u001b[0mvalue\u001b[0m\u001b[1;33m)\u001b[0m \u001b[1;33m->\u001b[0m \u001b[1;32mNone\u001b[0m\u001b[1;33m:\u001b[0m\u001b[1;33m\u001b[0m\u001b[1;33m\u001b[0m\u001b[0m\n",
      "\u001b[1;31mAttributeError\u001b[0m: 'DataFrame' object has no attribute 'unique'"
     ]
    }
   ],
   "source": [
    "for col in df:\n",
    "    print(col,':',df[col].unique())"
   ]
  },
  {
   "cell_type": "markdown",
   "id": "919b9f9f",
   "metadata": {},
   "source": [
    "A,B,C,D-->s16,s17,s18,s70,s71,"
   ]
  },
  {
   "cell_type": "markdown",
   "id": "6f1ee5a7",
   "metadata": {},
   "source": [
    "[0,1]-->s48,s13,n12,n13"
   ]
  },
  {
   "cell_type": "markdown",
   "id": "725e0439",
   "metadata": {},
   "source": [
    "float values-->n2,n4,n5,n6,n7,n8,n9,n10,n11,n4"
   ]
  },
  {
   "cell_type": "markdown",
   "id": "28dea812",
   "metadata": {},
   "source": [
    "[kk,2k]-->s54,s55"
   ]
  },
  {
   "cell_type": "markdown",
   "id": "57deb058",
   "metadata": {},
   "source": [
    "##### Taking only the floating point columns"
   ]
  },
  {
   "cell_type": "code",
   "execution_count": 8,
   "id": "c965c73a",
   "metadata": {},
   "outputs": [],
   "source": [
    "df_floating=df[['n2','n4','n5','n6','n7','n8','n9','n10','n11','label']]"
   ]
  },
  {
   "cell_type": "code",
   "execution_count": 9,
   "id": "a9af4dcb",
   "metadata": {},
   "outputs": [
    {
     "data": {
      "text/html": [
       "<div>\n",
       "<style scoped>\n",
       "    .dataframe tbody tr th:only-of-type {\n",
       "        vertical-align: middle;\n",
       "    }\n",
       "\n",
       "    .dataframe tbody tr th {\n",
       "        vertical-align: top;\n",
       "    }\n",
       "\n",
       "    .dataframe thead th {\n",
       "        text-align: right;\n",
       "    }\n",
       "</style>\n",
       "<table border=\"1\" class=\"dataframe\">\n",
       "  <thead>\n",
       "    <tr style=\"text-align: right;\">\n",
       "      <th></th>\n",
       "      <th>n2</th>\n",
       "      <th>n4</th>\n",
       "      <th>n5</th>\n",
       "      <th>n6</th>\n",
       "      <th>n7</th>\n",
       "      <th>n8</th>\n",
       "      <th>n9</th>\n",
       "      <th>n10</th>\n",
       "      <th>n11</th>\n",
       "      <th>label</th>\n",
       "    </tr>\n",
       "  </thead>\n",
       "  <tbody>\n",
       "    <tr>\n",
       "      <th>0</th>\n",
       "      <td>1.989441</td>\n",
       "      <td>2.318385</td>\n",
       "      <td>-32.839277</td>\n",
       "      <td>0.017176</td>\n",
       "      <td>-9.126056</td>\n",
       "      <td>1.732291</td>\n",
       "      <td>3.698504</td>\n",
       "      <td>4.804517</td>\n",
       "      <td>1.544484</td>\n",
       "      <td>0</td>\n",
       "    </tr>\n",
       "    <tr>\n",
       "      <th>1</th>\n",
       "      <td>0.844866</td>\n",
       "      <td>6.197768</td>\n",
       "      <td>-32.576597</td>\n",
       "      <td>0.013857</td>\n",
       "      <td>-9.098287</td>\n",
       "      <td>1.505885</td>\n",
       "      <td>6.791357</td>\n",
       "      <td>6.110416</td>\n",
       "      <td>1.712354</td>\n",
       "      <td>1</td>\n",
       "    </tr>\n",
       "    <tr>\n",
       "      <th>2</th>\n",
       "      <td>1.042018</td>\n",
       "      <td>7.824401</td>\n",
       "      <td>-32.510544</td>\n",
       "      <td>0.013943</td>\n",
       "      <td>-9.234894</td>\n",
       "      <td>1.503828</td>\n",
       "      <td>4.109685</td>\n",
       "      <td>3.953226</td>\n",
       "      <td>1.804260</td>\n",
       "      <td>0</td>\n",
       "    </tr>\n",
       "    <tr>\n",
       "      <th>3</th>\n",
       "      <td>0.781439</td>\n",
       "      <td>8.256767</td>\n",
       "      <td>-32.398679</td>\n",
       "      <td>0.010387</td>\n",
       "      <td>-9.378025</td>\n",
       "      <td>1.485863</td>\n",
       "      <td>7.265876</td>\n",
       "      <td>4.559419</td>\n",
       "      <td>1.537645</td>\n",
       "      <td>0</td>\n",
       "    </tr>\n",
       "    <tr>\n",
       "      <th>4</th>\n",
       "      <td>1.248188</td>\n",
       "      <td>2.300011</td>\n",
       "      <td>-32.396746</td>\n",
       "      <td>0.016289</td>\n",
       "      <td>-9.261962</td>\n",
       "      <td>1.619210</td>\n",
       "      <td>3.737647</td>\n",
       "      <td>4.052003</td>\n",
       "      <td>1.637831</td>\n",
       "      <td>0</td>\n",
       "    </tr>\n",
       "  </tbody>\n",
       "</table>\n",
       "</div>"
      ],
      "text/plain": [
       "         n2        n4         n5        n6        n7        n8        n9  \\\n",
       "0  1.989441  2.318385 -32.839277  0.017176 -9.126056  1.732291  3.698504   \n",
       "1  0.844866  6.197768 -32.576597  0.013857 -9.098287  1.505885  6.791357   \n",
       "2  1.042018  7.824401 -32.510544  0.013943 -9.234894  1.503828  4.109685   \n",
       "3  0.781439  8.256767 -32.398679  0.010387 -9.378025  1.485863  7.265876   \n",
       "4  1.248188  2.300011 -32.396746  0.016289 -9.261962  1.619210  3.737647   \n",
       "\n",
       "        n10       n11  label  \n",
       "0  4.804517  1.544484      0  \n",
       "1  6.110416  1.712354      1  \n",
       "2  3.953226  1.804260      0  \n",
       "3  4.559419  1.537645      0  \n",
       "4  4.052003  1.637831      0  "
      ]
     },
     "execution_count": 9,
     "metadata": {},
     "output_type": "execute_result"
    }
   ],
   "source": [
    "df_floating.head()"
   ]
  },
  {
   "cell_type": "code",
   "execution_count": 60,
   "id": "c407890e",
   "metadata": {},
   "outputs": [
    {
     "name": "stdout",
     "output_type": "stream",
     "text": [
      "1.6001111399237806\n",
      "5.080537296408086\n",
      "-32.64118300884669\n",
      "0.015014086724560354\n",
      "-9.107428696236568\n",
      "1.6124278614482683\n",
      "5.232643658001636\n",
      "6.115109133778322\n",
      "1.6995531243993742\n",
      "0.16806722689075632\n"
     ]
    }
   ],
   "source": [
    "for col in df_floating:\n",
    "    print(df_floating[col].mean())\n"
   ]
  },
  {
   "cell_type": "code",
   "execution_count": null,
   "id": "4a4bb01a",
   "metadata": {},
   "outputs": [],
   "source": [
    "X_float,y_float=df_floating.iloc[:, :-1], df_floating.iloc[:, [-1]]"
   ]
  },
  {
   "cell_type": "code",
   "execution_count": 62,
   "id": "7dfc77fb",
   "metadata": {
    "scrolled": false
   },
   "outputs": [
    {
     "data": {
      "image/png": "[encoded data removed]",
      "text/plain": [
       "<Figure size 1440x1440 with 2 Axes>"
      ]
     },
     "metadata": {
      "needs_background": "light"
     },
     "output_type": "display_data"
    }
   ],
   "source": [
    "corrmat=df_floating.corr()\n",
    "top_corr_features = corrmat.index\n",
    "plt.figure(figsize=(20,20))\n",
    "#plot heat map\n",
    "g=sns.heatmap(df_floating[top_corr_features].corr(),annot=True,cmap=\"RdYlGn\")"
   ]
  },
  {
   "cell_type": "code",
   "execution_count": 11,
   "id": "761b958f",
   "metadata": {},
   "outputs": [],
   "source": [
    "X_float,y_float=df_floating.iloc[:, :-1], df_floating.iloc[:, [-1]]"
   ]
  },
  {
   "cell_type": "code",
   "execution_count": null,
   "id": "7475510e",
   "metadata": {},
   "outputs": [],
   "source": []
  },
  {
   "cell_type": "code",
   "execution_count": 12,
   "id": "bb7176bf",
   "metadata": {},
   "outputs": [
    {
     "name": "stdout",
     "output_type": "stream",
     "text": [
      "[4.182e+02 1.382e+02 9.917e+02 8.318e+02 3.223e+01 8.226e+02 5.129e+01\n",
      " 6.312e+01 2.481e-01]\n",
      "(28322, 4)\n"
     ]
    },
    {
     "name": "stderr",
     "output_type": "stream",
     "text": [
      "C:\\Users\\User\\anaconda3\\lib\\site-packages\\sklearn\\utils\\validation.py:1111: DataConversionWarning: A column-vector y was passed when a 1d array was expected. Please change the shape of y to (n_samples, ), for example using ravel().\n",
      "  y = column_or_1d(y, warn=True)\n"
     ]
    }
   ],
   "source": [
    "from sklearn.feature_selection import SelectKBest\n",
    "from sklearn.feature_selection import f_classif\n",
    "from numpy import set_printoptions\n",
    "test_f=SelectKBest(score_func=f_classif,k=4)\n",
    "test_fit=test_f.fit(X_float,y_float)\n",
    "set_printoptions(precision=3)\n",
    "print(test_fit.scores_)\n",
    "\n",
    "features=test_fit.transform(X_float)\n",
    "print(features.shape)"
   ]
  },
  {
   "cell_type": "markdown",
   "id": "b6b29f76",
   "metadata": {},
   "source": [
    "s53 space values,s55 ???? s56,57 --> list of nan values"
   ]
  },
  {
   "cell_type": "markdown",
   "id": "342052e7",
   "metadata": {},
   "source": [
    "#### Dropping null columns"
   ]
  },
  {
   "cell_type": "code",
   "execution_count": 13,
   "id": "ec318dc0",
   "metadata": {},
   "outputs": [],
   "source": [
    "\n",
    "df=df.drop(columns=['s56','s57','s59'])"
   ]
  },
  {
   "cell_type": "code",
   "execution_count": 14,
   "id": "4780bbe2",
   "metadata": {},
   "outputs": [
    {
     "data": {
      "text/html": [
       "<div>\n",
       "<style scoped>\n",
       "    .dataframe tbody tr th:only-of-type {\n",
       "        vertical-align: middle;\n",
       "    }\n",
       "\n",
       "    .dataframe tbody tr th {\n",
       "        vertical-align: top;\n",
       "    }\n",
       "\n",
       "    .dataframe thead th {\n",
       "        text-align: right;\n",
       "    }\n",
       "</style>\n",
       "<table border=\"1\" class=\"dataframe\">\n",
       "  <thead>\n",
       "    <tr style=\"text-align: right;\">\n",
       "      <th></th>\n",
       "      <th>id</th>\n",
       "      <th>gender</th>\n",
       "      <th>s11</th>\n",
       "      <th>s12</th>\n",
       "      <th>s13</th>\n",
       "      <th>s16</th>\n",
       "      <th>s17</th>\n",
       "      <th>s18</th>\n",
       "      <th>s48</th>\n",
       "      <th>s52</th>\n",
       "      <th>...</th>\n",
       "      <th>n7</th>\n",
       "      <th>n8</th>\n",
       "      <th>n9</th>\n",
       "      <th>n10</th>\n",
       "      <th>n11</th>\n",
       "      <th>n12</th>\n",
       "      <th>n13</th>\n",
       "      <th>n14</th>\n",
       "      <th>n15</th>\n",
       "      <th>label</th>\n",
       "    </tr>\n",
       "  </thead>\n",
       "  <tbody>\n",
       "    <tr>\n",
       "      <th>0</th>\n",
       "      <td>b'gAAAAABinOicS09vrmgh0_JyEHihI13ptO0rCyHP7l76...</td>\n",
       "      <td>M</td>\n",
       "      <td>Y</td>\n",
       "      <td>N</td>\n",
       "      <td>1</td>\n",
       "      <td>D</td>\n",
       "      <td>D</td>\n",
       "      <td>B</td>\n",
       "      <td>0</td>\n",
       "      <td>1</td>\n",
       "      <td>...</td>\n",
       "      <td>-9.126056</td>\n",
       "      <td>1.732291</td>\n",
       "      <td>3.698504</td>\n",
       "      <td>4.804517</td>\n",
       "      <td>1.544484</td>\n",
       "      <td>0</td>\n",
       "      <td>0</td>\n",
       "      <td>0.631220</td>\n",
       "      <td>5</td>\n",
       "      <td>0</td>\n",
       "    </tr>\n",
       "    <tr>\n",
       "      <th>1</th>\n",
       "      <td>b'gAAAAABinOiWGC1WhR6WYP0DA5ssGv9rIekrWUwCdJ8F...</td>\n",
       "      <td>M</td>\n",
       "      <td>Y</td>\n",
       "      <td>Y</td>\n",
       "      <td>1</td>\n",
       "      <td>D</td>\n",
       "      <td>D</td>\n",
       "      <td>B</td>\n",
       "      <td>1</td>\n",
       "      <td>1</td>\n",
       "      <td>...</td>\n",
       "      <td>-9.098287</td>\n",
       "      <td>1.505885</td>\n",
       "      <td>6.791357</td>\n",
       "      <td>6.110416</td>\n",
       "      <td>1.712354</td>\n",
       "      <td>0</td>\n",
       "      <td>0</td>\n",
       "      <td>0.392746</td>\n",
       "      <td>3</td>\n",
       "      <td>1</td>\n",
       "    </tr>\n",
       "    <tr>\n",
       "      <th>2</th>\n",
       "      <td>b'gAAAAABinOibTcOBFIVeA4nVF3FuFz_QX3ZlPPFc21gS...</td>\n",
       "      <td>M</td>\n",
       "      <td>Y</td>\n",
       "      <td>Y</td>\n",
       "      <td>1</td>\n",
       "      <td>D</td>\n",
       "      <td>D</td>\n",
       "      <td>B</td>\n",
       "      <td>0</td>\n",
       "      <td>1</td>\n",
       "      <td>...</td>\n",
       "      <td>-9.234894</td>\n",
       "      <td>1.503828</td>\n",
       "      <td>4.109685</td>\n",
       "      <td>3.953226</td>\n",
       "      <td>1.804260</td>\n",
       "      <td>0</td>\n",
       "      <td>0</td>\n",
       "      <td>0.222537</td>\n",
       "      <td>2</td>\n",
       "      <td>0</td>\n",
       "    </tr>\n",
       "    <tr>\n",
       "      <th>3</th>\n",
       "      <td>b'gAAAAABinOig-g3-Q1ggjlMhfUSdn21Aj5yVVeVvXbis...</td>\n",
       "      <td>F</td>\n",
       "      <td>Y</td>\n",
       "      <td>Y</td>\n",
       "      <td>1</td>\n",
       "      <td>D</td>\n",
       "      <td>D</td>\n",
       "      <td>B</td>\n",
       "      <td>0</td>\n",
       "      <td>1</td>\n",
       "      <td>...</td>\n",
       "      <td>-9.378025</td>\n",
       "      <td>1.485863</td>\n",
       "      <td>7.265876</td>\n",
       "      <td>4.559419</td>\n",
       "      <td>1.537645</td>\n",
       "      <td>0</td>\n",
       "      <td>0</td>\n",
       "      <td>0.154409</td>\n",
       "      <td>4</td>\n",
       "      <td>0</td>\n",
       "    </tr>\n",
       "    <tr>\n",
       "      <th>4</th>\n",
       "      <td>b'gAAAAABinOiXdoaNUzihOSbyY1tjWtd5EgMaXkkvH6SV...</td>\n",
       "      <td>M</td>\n",
       "      <td>N</td>\n",
       "      <td>Y</td>\n",
       "      <td>1</td>\n",
       "      <td>B</td>\n",
       "      <td>D</td>\n",
       "      <td>D</td>\n",
       "      <td>1</td>\n",
       "      <td>l</td>\n",
       "      <td>...</td>\n",
       "      <td>-9.261962</td>\n",
       "      <td>1.619210</td>\n",
       "      <td>3.737647</td>\n",
       "      <td>4.052003</td>\n",
       "      <td>1.637831</td>\n",
       "      <td>0</td>\n",
       "      <td>1</td>\n",
       "      <td>0.737560</td>\n",
       "      <td>1</td>\n",
       "      <td>0</td>\n",
       "    </tr>\n",
       "  </tbody>\n",
       "</table>\n",
       "<p>5 rows × 33 columns</p>\n",
       "</div>"
      ],
      "text/plain": [
       "                                                  id gender s11 s12  s13 s16  \\\n",
       "0  b'gAAAAABinOicS09vrmgh0_JyEHihI13ptO0rCyHP7l76...      M   Y   N    1   D   \n",
       "1  b'gAAAAABinOiWGC1WhR6WYP0DA5ssGv9rIekrWUwCdJ8F...      M   Y   Y    1   D   \n",
       "2  b'gAAAAABinOibTcOBFIVeA4nVF3FuFz_QX3ZlPPFc21gS...      M   Y   Y    1   D   \n",
       "3  b'gAAAAABinOig-g3-Q1ggjlMhfUSdn21Aj5yVVeVvXbis...      F   Y   Y    1   D   \n",
       "4  b'gAAAAABinOiXdoaNUzihOSbyY1tjWtd5EgMaXkkvH6SV...      M   N   Y    1   B   \n",
       "\n",
       "  s17 s18  s48 s52  ...        n7        n8        n9       n10       n11 n12  \\\n",
       "0   D   B    0   1  ... -9.126056  1.732291  3.698504  4.804517  1.544484   0   \n",
       "1   D   B    1   1  ... -9.098287  1.505885  6.791357  6.110416  1.712354   0   \n",
       "2   D   B    0   1  ... -9.234894  1.503828  4.109685  3.953226  1.804260   0   \n",
       "3   D   B    0   1  ... -9.378025  1.485863  7.265876  4.559419  1.537645   0   \n",
       "4   D   D    1   l  ... -9.261962  1.619210  3.737647  4.052003  1.637831   0   \n",
       "\n",
       "  n13       n14  n15  label  \n",
       "0   0  0.631220    5      0  \n",
       "1   0  0.392746    3      1  \n",
       "2   0  0.222537    2      0  \n",
       "3   0  0.154409    4      0  \n",
       "4   1  0.737560    1      0  \n",
       "\n",
       "[5 rows x 33 columns]"
      ]
     },
     "execution_count": 14,
     "metadata": {},
     "output_type": "execute_result"
    }
   ],
   "source": [
    "df.head()"
   ]
  },
  {
   "cell_type": "code",
   "execution_count": 15,
   "id": "d2167eec",
   "metadata": {},
   "outputs": [
    {
     "data": {
      "text/plain": [
       "28322"
      ]
     },
     "execution_count": 15,
     "metadata": {},
     "output_type": "execute_result"
    }
   ],
   "source": [
    "df['s55'].isnull().count()"
   ]
  },
  {
   "cell_type": "code",
   "execution_count": 16,
   "id": "56080fec",
   "metadata": {},
   "outputs": [
    {
     "data": {
      "text/plain": [
       "3206"
      ]
     },
     "execution_count": 16,
     "metadata": {},
     "output_type": "execute_result"
    }
   ],
   "source": [
    "df['s55'].count()"
   ]
  },
  {
   "cell_type": "code",
   "execution_count": 90,
   "id": "b36a3bf5",
   "metadata": {},
   "outputs": [
    {
     "name": "stdout",
     "output_type": "stream",
     "text": [
      "id value counts : b'gAAAAABinOigOOrRxCcR7R2TIP88sh9J-ht7lKkUTfA2UNyv7b5z4O-UyLL9Uc6MARhJYQQuSQPPXZHfea2micVwRhcSSj2Bxw=='    1\n",
      "b'gAAAAABinOiger0KY9acym9huiuI2XRqM2BEsGfS8GBlCc-vtn0zDiWOEoHDJHCElzbl1xs_RaEH_I8Iim-x1BxhcgG37hHGXA=='    1\n",
      "b'gAAAAABinOiX1e_SrRfIXzL05r4h0ckD5-NE7sEAkpRhk7xtqP9r8K4lPZixY_iCQn8B_Kg9BHGUAU2oEfthWYTGLMFnqe8pvg=='    1\n",
      "b'gAAAAABinOiajW2-wljW2W3R_8bUgFNFTWO974jKQIsH_OW-p61ctjLDVVwDzLXZO7LdagUNNpZj_R6VQGLZBN-ZNXcTRWU9jQ=='    1\n",
      "b'gAAAAABinOif3Ybgoiiao9RE-dzvqHEka7dSmE5zWngIiGOnE8L0IKMMozPgnkA5sf4CIrUK0ZgAEADhG6j0Hik79_5e3k_VDw=='    1\n",
      "                                                                                                          ..\n",
      "b'gAAAAABinOicudOVAH9OXJI4mH0Qd2Y16cWUC5icJbCgr1KoFb5lEE6V079WwcmVtEKjH_f5GehCA_v73UmumW4l36Vnzep8VQ=='    1\n",
      "b'gAAAAABinOicgvxMB3hX8Y1kPVzJYQxMfSoRJ2XdcpEtQ31VEPI_tZZ-9i5cBtUDNrrjO4ZymwmYkmw6LmzOI0D8OoRu2H0jqA=='    1\n",
      "b'gAAAAABinOiVzQ3iI0dQq2ruFNnVqDdVc0J-AvvHHXoarSkmaX_H0C5sLruy7cMbl3ejJEbd2X5YgxLHkGwmDJrPY4RfJA3Hiw=='    1\n",
      "b'gAAAAABinOieJcipcUjnpROuGllQ0oo18ENPXLMJE0rmGf2GnXgLBhtuAqP9-WmnFwbhhU84eISyFn4GQGFoxbhQIO7kfDJfDA=='    1\n",
      "b'gAAAAABinOidG__NOodgkSULalHxC4pPz38VnQzy4oCBqYctPdGb3xEwZ3rJGtK1W35MrA3ZMRnDpLfElLOMt_lK9l69Weybiw=='    1\n",
      "Name: id, Length: 28322, dtype: int64\n",
      "s11 value counts : Y    25112\n",
      "N     3210\n",
      "Name: s11, dtype: int64\n",
      "s12 value counts : Y    24227\n",
      "N     4095\n",
      "Name: s12, dtype: int64\n",
      "s13 value counts : 1    27844\n",
      "0      478\n",
      "Name: s13, dtype: int64\n",
      "s48 value counts : 0    16049\n",
      "1    12273\n",
      "Name: s48, dtype: int64\n",
      "s52 value counts : 1    27032\n",
      "0     1290\n",
      "Name: s52, dtype: int64\n",
      "s53 value counts :       25752\n",
      "       2570\n",
      "Name: s53, dtype: int64\n",
      "s58 value counts : B    25760\n",
      "A     2562\n",
      "Name: s58, dtype: int64\n",
      "s69 value counts : x     21028\n",
      "~1     6446\n",
      "C`      540\n",
      "0       308\n",
      "Name: s69, dtype: int64\n",
      "n1 value counts : 2.943602     2\n",
      "9.319281     1\n",
      "10.106696    1\n",
      "8.720038     1\n",
      "6.946005     1\n",
      "            ..\n",
      "12.337541    1\n",
      "16.029053    1\n",
      "7.192104     1\n",
      "9.777885     1\n",
      "7.111016     1\n",
      "Name: n1, Length: 28321, dtype: int64\n",
      "n2 value counts : 0.517754    2\n",
      "1.197314    2\n",
      "2.619881    1\n",
      "0.780286    1\n",
      "0.911417    1\n",
      "           ..\n",
      "1.868695    1\n",
      "0.761192    1\n",
      "1.737641    1\n",
      "1.762309    1\n",
      "1.258164    1\n",
      "Name: n2, Length: 28320, dtype: int64\n",
      "n3 value counts : 3    9681\n",
      "6    6802\n",
      "7    3186\n",
      "8    2652\n",
      "2    2433\n",
      "4    1178\n",
      "9    1159\n",
      "1     733\n",
      "5     395\n",
      "0     103\n",
      "Name: n3, dtype: int64\n",
      "n4 value counts : 6.033573    2\n",
      "8.202351    1\n",
      "2.895960    1\n",
      "3.577152    1\n",
      "8.112260    1\n",
      "           ..\n",
      "6.381598    1\n",
      "2.799450    1\n",
      "6.817150    1\n",
      "3.794266    1\n",
      "3.976241    1\n",
      "Name: n4, Length: 28321, dtype: int64\n",
      "n5 value counts : -32.643876    2\n",
      "-32.449136    2\n",
      "-32.394341    2\n",
      "-32.575788    2\n",
      "-32.331093    2\n",
      "             ..\n",
      "-32.575706    1\n",
      "-32.394170    1\n",
      "-32.822672    1\n",
      "-32.511160    1\n",
      "-32.709943    1\n",
      "Name: n5, Length: 28290, dtype: int64\n",
      "n6 value counts : 0.015602    2\n",
      "0.018631    2\n",
      "0.017311    2\n",
      "0.016415    2\n",
      "0.017910    2\n",
      "           ..\n",
      "0.017347    1\n",
      "0.022202    1\n",
      "0.002464    1\n",
      "0.003641    1\n",
      "0.018269    1\n",
      "Name: n6, Length: 28299, dtype: int64\n",
      "n7 value counts : -9.050681    2\n",
      "-9.144623    2\n",
      "-8.718715    1\n",
      "-8.817570    1\n",
      "-9.360335    1\n",
      "            ..\n",
      "-9.393376    1\n",
      "-9.268569    1\n",
      "-9.364847    1\n",
      "-9.227977    1\n",
      "-9.214836    1\n",
      "Name: n7, Length: 28320, dtype: int64\n",
      "n8 value counts : 1.472391    2\n",
      "1.557345    1\n",
      "1.501280    1\n",
      "1.755807    1\n",
      "1.839990    1\n",
      "           ..\n",
      "1.490250    1\n",
      "1.510997    1\n",
      "1.970681    1\n",
      "1.516480    1\n",
      "1.945143    1\n",
      "Name: n8, Length: 28321, dtype: int64\n",
      "n9 value counts : 3.653427    2\n",
      "6.084550    1\n",
      "5.521365    1\n",
      "5.645289    1\n",
      "3.576576    1\n",
      "           ..\n",
      "5.465955    1\n",
      "6.614972    1\n",
      "4.906351    1\n",
      "3.896944    1\n",
      "4.194768    1\n",
      "Name: n9, Length: 28321, dtype: int64\n",
      "n10 value counts : 6.106579     2\n",
      "11.431255    2\n",
      "4.814525     2\n",
      "6.549302     1\n",
      "7.042694     1\n",
      "            ..\n",
      "4.999595     1\n",
      "4.653932     1\n",
      "4.784817     1\n",
      "5.060600     1\n",
      "5.678561     1\n",
      "Name: n10, Length: 28319, dtype: int64\n",
      "n11 value counts : 1.549197    2\n",
      "1.559335    1\n",
      "1.619643    1\n",
      "1.557586    1\n",
      "1.870443    1\n",
      "           ..\n",
      "1.879908    1\n",
      "1.722778    1\n",
      "1.876266    1\n",
      "1.896810    1\n",
      "1.659684    1\n",
      "Name: n11, Length: 28321, dtype: int64\n",
      "n12 value counts : 0    28039\n",
      "1      283\n",
      "Name: n12, dtype: int64\n",
      "n13 value counts : 0    25787\n",
      "1     2535\n",
      "Name: n13, dtype: int64\n",
      "n14 value counts : 0.800493    1\n",
      "0.843801    1\n",
      "0.125959    1\n",
      "0.120801    1\n",
      "0.751119    1\n",
      "           ..\n",
      "0.626413    1\n",
      "0.273322    1\n",
      "0.076954    1\n",
      "0.491200    1\n",
      "0.768129    1\n",
      "Name: n14, Length: 28322, dtype: int64\n",
      "n15 value counts : 0    4145\n",
      "5    4100\n",
      "6    4049\n",
      "4    4021\n",
      "2    4013\n",
      "3    4002\n",
      "1    3992\n",
      "Name: n15, dtype: int64\n"
     ]
    },
    {
     "ename": "ValueError",
     "evalue": "Grouper for 'F' not 1-dimensional",
     "output_type": "error",
     "traceback": [
      "\u001b[1;31m---------------------------------------------------------------------------\u001b[0m",
      "\u001b[1;31mValueError\u001b[0m                                Traceback (most recent call last)",
      "\u001b[1;32m<ipython-input-90-03861bc1a070>\u001b[0m in \u001b[0;36m<module>\u001b[1;34m\u001b[0m\n\u001b[0;32m      1\u001b[0m \u001b[1;32mfor\u001b[0m \u001b[0mcol\u001b[0m \u001b[1;32min\u001b[0m \u001b[0mdf\u001b[0m\u001b[1;33m:\u001b[0m\u001b[1;33m\u001b[0m\u001b[1;33m\u001b[0m\u001b[0m\n\u001b[1;32m----> 2\u001b[1;33m     \u001b[0mprint\u001b[0m\u001b[1;33m(\u001b[0m\u001b[0mcol\u001b[0m\u001b[1;33m,\u001b[0m\u001b[1;34m'value counts :'\u001b[0m\u001b[1;33m,\u001b[0m\u001b[0mdf\u001b[0m\u001b[1;33m[\u001b[0m\u001b[0mcol\u001b[0m\u001b[1;33m]\u001b[0m\u001b[1;33m.\u001b[0m\u001b[0mvalue_counts\u001b[0m\u001b[1;33m(\u001b[0m\u001b[1;33m)\u001b[0m\u001b[1;33m)\u001b[0m\u001b[1;33m\u001b[0m\u001b[1;33m\u001b[0m\u001b[0m\n\u001b[0m",
      "\u001b[1;32m~\\anaconda3\\lib\\site-packages\\pandas\\core\\frame.py\u001b[0m in \u001b[0;36mvalue_counts\u001b[1;34m(self, subset, normalize, sort, ascending)\u001b[0m\n\u001b[0;32m   5673\u001b[0m             \u001b[0msubset\u001b[0m \u001b[1;33m=\u001b[0m \u001b[0mself\u001b[0m\u001b[1;33m.\u001b[0m\u001b[0mcolumns\u001b[0m\u001b[1;33m.\u001b[0m\u001b[0mtolist\u001b[0m\u001b[1;33m(\u001b[0m\u001b[1;33m)\u001b[0m\u001b[1;33m\u001b[0m\u001b[1;33m\u001b[0m\u001b[0m\n\u001b[0;32m   5674\u001b[0m \u001b[1;33m\u001b[0m\u001b[0m\n\u001b[1;32m-> 5675\u001b[1;33m         \u001b[0mcounts\u001b[0m \u001b[1;33m=\u001b[0m \u001b[0mself\u001b[0m\u001b[1;33m.\u001b[0m\u001b[0mgroupby\u001b[0m\u001b[1;33m(\u001b[0m\u001b[0msubset\u001b[0m\u001b[1;33m)\u001b[0m\u001b[1;33m.\u001b[0m\u001b[0mgrouper\u001b[0m\u001b[1;33m.\u001b[0m\u001b[0msize\u001b[0m\u001b[1;33m(\u001b[0m\u001b[1;33m)\u001b[0m\u001b[1;33m\u001b[0m\u001b[1;33m\u001b[0m\u001b[0m\n\u001b[0m\u001b[0;32m   5676\u001b[0m \u001b[1;33m\u001b[0m\u001b[0m\n\u001b[0;32m   5677\u001b[0m         \u001b[1;32mif\u001b[0m \u001b[0msort\u001b[0m\u001b[1;33m:\u001b[0m\u001b[1;33m\u001b[0m\u001b[1;33m\u001b[0m\u001b[0m\n",
      "\u001b[1;32m~\\anaconda3\\lib\\site-packages\\pandas\\core\\frame.py\u001b[0m in \u001b[0;36mgroupby\u001b[1;34m(self, by, axis, level, as_index, sort, group_keys, squeeze, observed, dropna)\u001b[0m\n\u001b[0;32m   6715\u001b[0m         \u001b[0maxis\u001b[0m \u001b[1;33m=\u001b[0m \u001b[0mself\u001b[0m\u001b[1;33m.\u001b[0m\u001b[0m_get_axis_number\u001b[0m\u001b[1;33m(\u001b[0m\u001b[0maxis\u001b[0m\u001b[1;33m)\u001b[0m\u001b[1;33m\u001b[0m\u001b[1;33m\u001b[0m\u001b[0m\n\u001b[0;32m   6716\u001b[0m \u001b[1;33m\u001b[0m\u001b[0m\n\u001b[1;32m-> 6717\u001b[1;33m         return DataFrameGroupBy(\n\u001b[0m\u001b[0;32m   6718\u001b[0m             \u001b[0mobj\u001b[0m\u001b[1;33m=\u001b[0m\u001b[0mself\u001b[0m\u001b[1;33m,\u001b[0m\u001b[1;33m\u001b[0m\u001b[1;33m\u001b[0m\u001b[0m\n\u001b[0;32m   6719\u001b[0m             \u001b[0mkeys\u001b[0m\u001b[1;33m=\u001b[0m\u001b[0mby\u001b[0m\u001b[1;33m,\u001b[0m\u001b[1;33m\u001b[0m\u001b[1;33m\u001b[0m\u001b[0m\n",
      "\u001b[1;32m~\\anaconda3\\lib\\site-packages\\pandas\\core\\groupby\\groupby.py\u001b[0m in \u001b[0;36m__init__\u001b[1;34m(self, obj, keys, axis, level, grouper, exclusions, selection, as_index, sort, group_keys, squeeze, observed, mutated, dropna)\u001b[0m\n\u001b[0;32m    558\u001b[0m             \u001b[1;32mfrom\u001b[0m \u001b[0mpandas\u001b[0m\u001b[1;33m.\u001b[0m\u001b[0mcore\u001b[0m\u001b[1;33m.\u001b[0m\u001b[0mgroupby\u001b[0m\u001b[1;33m.\u001b[0m\u001b[0mgrouper\u001b[0m \u001b[1;32mimport\u001b[0m \u001b[0mget_grouper\u001b[0m\u001b[1;33m\u001b[0m\u001b[1;33m\u001b[0m\u001b[0m\n\u001b[0;32m    559\u001b[0m \u001b[1;33m\u001b[0m\u001b[0m\n\u001b[1;32m--> 560\u001b[1;33m             grouper, exclusions, obj = get_grouper(\n\u001b[0m\u001b[0;32m    561\u001b[0m                 \u001b[0mobj\u001b[0m\u001b[1;33m,\u001b[0m\u001b[1;33m\u001b[0m\u001b[1;33m\u001b[0m\u001b[0m\n\u001b[0;32m    562\u001b[0m                 \u001b[0mkeys\u001b[0m\u001b[1;33m,\u001b[0m\u001b[1;33m\u001b[0m\u001b[1;33m\u001b[0m\u001b[0m\n",
      "\u001b[1;32m~\\anaconda3\\lib\\site-packages\\pandas\\core\\groupby\\grouper.py\u001b[0m in \u001b[0;36mget_grouper\u001b[1;34m(obj, key, axis, level, sort, observed, mutated, validate, dropna)\u001b[0m\n\u001b[0;32m    826\u001b[0m         \u001b[1;31m# allow us to passing the actual Grouping as the gpr\u001b[0m\u001b[1;33m\u001b[0m\u001b[1;33m\u001b[0m\u001b[1;33m\u001b[0m\u001b[0m\n\u001b[0;32m    827\u001b[0m         ping = (\n\u001b[1;32m--> 828\u001b[1;33m             Grouping(\n\u001b[0m\u001b[0;32m    829\u001b[0m                 \u001b[0mgroup_axis\u001b[0m\u001b[1;33m,\u001b[0m\u001b[1;33m\u001b[0m\u001b[1;33m\u001b[0m\u001b[0m\n\u001b[0;32m    830\u001b[0m                 \u001b[0mgpr\u001b[0m\u001b[1;33m,\u001b[0m\u001b[1;33m\u001b[0m\u001b[1;33m\u001b[0m\u001b[0m\n",
      "\u001b[1;32m~\\anaconda3\\lib\\site-packages\\pandas\\core\\groupby\\grouper.py\u001b[0m in \u001b[0;36m__init__\u001b[1;34m(self, index, grouper, obj, name, level, sort, observed, in_axis, dropna)\u001b[0m\n\u001b[0;32m    541\u001b[0m                 \u001b[1;32mif\u001b[0m \u001b[0mgetattr\u001b[0m\u001b[1;33m(\u001b[0m\u001b[0mself\u001b[0m\u001b[1;33m.\u001b[0m\u001b[0mgrouper\u001b[0m\u001b[1;33m,\u001b[0m \u001b[1;34m\"ndim\"\u001b[0m\u001b[1;33m,\u001b[0m \u001b[1;36m1\u001b[0m\u001b[1;33m)\u001b[0m \u001b[1;33m!=\u001b[0m \u001b[1;36m1\u001b[0m\u001b[1;33m:\u001b[0m\u001b[1;33m\u001b[0m\u001b[1;33m\u001b[0m\u001b[0m\n\u001b[0;32m    542\u001b[0m                     \u001b[0mt\u001b[0m \u001b[1;33m=\u001b[0m \u001b[0mself\u001b[0m\u001b[1;33m.\u001b[0m\u001b[0mname\u001b[0m \u001b[1;32mor\u001b[0m \u001b[0mstr\u001b[0m\u001b[1;33m(\u001b[0m\u001b[0mtype\u001b[0m\u001b[1;33m(\u001b[0m\u001b[0mself\u001b[0m\u001b[1;33m.\u001b[0m\u001b[0mgrouper\u001b[0m\u001b[1;33m)\u001b[0m\u001b[1;33m)\u001b[0m\u001b[1;33m\u001b[0m\u001b[1;33m\u001b[0m\u001b[0m\n\u001b[1;32m--> 543\u001b[1;33m                     \u001b[1;32mraise\u001b[0m \u001b[0mValueError\u001b[0m\u001b[1;33m(\u001b[0m\u001b[1;34mf\"Grouper for '{t}' not 1-dimensional\"\u001b[0m\u001b[1;33m)\u001b[0m\u001b[1;33m\u001b[0m\u001b[1;33m\u001b[0m\u001b[0m\n\u001b[0m\u001b[0;32m    544\u001b[0m                 \u001b[0mself\u001b[0m\u001b[1;33m.\u001b[0m\u001b[0mgrouper\u001b[0m \u001b[1;33m=\u001b[0m \u001b[0mself\u001b[0m\u001b[1;33m.\u001b[0m\u001b[0mindex\u001b[0m\u001b[1;33m.\u001b[0m\u001b[0mmap\u001b[0m\u001b[1;33m(\u001b[0m\u001b[0mself\u001b[0m\u001b[1;33m.\u001b[0m\u001b[0mgrouper\u001b[0m\u001b[1;33m)\u001b[0m\u001b[1;33m\u001b[0m\u001b[1;33m\u001b[0m\u001b[0m\n\u001b[0;32m    545\u001b[0m                 if not (\n",
      "\u001b[1;31mValueError\u001b[0m: Grouper for 'F' not 1-dimensional"
     ]
    }
   ],
   "source": [
    "for col in df:\n",
    "    print(col,'value counts :',df[col].value_counts())"
   ]
  },
  {
   "cell_type": "code",
   "execution_count": 18,
   "id": "6626b469",
   "metadata": {
    "scrolled": true
   },
   "outputs": [
    {
     "data": {
      "text/plain": [
       "1    20524\n",
       "l     6508\n",
       "0     1094\n",
       "o      196\n",
       "Name: s52, dtype: int64"
      ]
     },
     "execution_count": 18,
     "metadata": {},
     "output_type": "execute_result"
    }
   ],
   "source": [
    "df['s52'].value_counts()"
   ]
  },
  {
   "cell_type": "code",
   "execution_count": 19,
   "id": "2b522887",
   "metadata": {
    "scrolled": true
   },
   "outputs": [
    {
     "data": {
      "text/plain": [
       "id        False\n",
       "gender    False\n",
       "s11       False\n",
       "s12       False\n",
       "s13       False\n",
       "s16       False\n",
       "s17       False\n",
       "s18       False\n",
       "s48       False\n",
       "s52       False\n",
       "s53       False\n",
       "s54        True\n",
       "s55        True\n",
       "s58       False\n",
       "s69       False\n",
       "s70       False\n",
       "s71       False\n",
       "n1        False\n",
       "n2        False\n",
       "n3        False\n",
       "n4        False\n",
       "n5        False\n",
       "n6        False\n",
       "n7        False\n",
       "n8        False\n",
       "n9        False\n",
       "n10       False\n",
       "n11       False\n",
       "n12       False\n",
       "n13       False\n",
       "n14       False\n",
       "n15       False\n",
       "label     False\n",
       "dtype: bool"
      ]
     },
     "execution_count": 19,
     "metadata": {},
     "output_type": "execute_result"
    }
   ],
   "source": [
    "df.isnull().any()"
   ]
  },
  {
   "cell_type": "markdown",
   "id": "5dd61776",
   "metadata": {},
   "source": [
    "s54,s55,s56,s59"
   ]
  },
  {
   "cell_type": "code",
   "execution_count": 99,
   "id": "65debaf0",
   "metadata": {},
   "outputs": [
    {
     "data": {
      "text/plain": [
       "Index(['id', 's11', 's12', 's13', 's48', 's52', 's53', 's58', 's69', 'n1',\n",
       "       'n2', 'n3', 'n4', 'n5', 'n6', 'n7', 'n8', 'n9', 'n10', 'n11', 'n12',\n",
       "       'n13', 'n14', 'n15', 'F', 'M', 'F', 'M', 's16_label', 's17_label',\n",
       "       's18_label', 's70_label', 's71_label'],\n",
       "      dtype='object')"
      ]
     },
     "execution_count": 99,
     "metadata": {},
     "output_type": "execute_result"
    }
   ],
   "source": [
    "df.columns"
   ]
  },
  {
   "cell_type": "code",
   "execution_count": 91,
   "id": "50269836",
   "metadata": {},
   "outputs": [
    {
     "data": {
      "text/plain": [
       "array(['x', '~1', 'C`', '0'], dtype=object)"
      ]
     },
     "execution_count": 91,
     "metadata": {},
     "output_type": "execute_result"
    }
   ],
   "source": [
    "df['s69'].unique()"
   ]
  },
  {
   "cell_type": "code",
   "execution_count": 92,
   "id": "aa379bf6",
   "metadata": {},
   "outputs": [
    {
     "data": {
      "text/plain": [
       "x     21028\n",
       "~1     6446\n",
       "C`      540\n",
       "0       308\n",
       "Name: s69, dtype: int64"
      ]
     },
     "execution_count": 92,
     "metadata": {},
     "output_type": "execute_result"
    }
   ],
   "source": [
    "df['s69'].value_counts()"
   ]
  },
  {
   "cell_type": "markdown",
   "id": "ee124730",
   "metadata": {},
   "source": [
    "### Splitting columns s70 at ' : '"
   ]
  },
  {
   "cell_type": "code",
   "execution_count": 97,
   "id": "19eea539",
   "metadata": {},
   "outputs": [
    {
     "ename": "KeyError",
     "evalue": "'s70'",
     "output_type": "error",
     "traceback": [
      "\u001b[1;31m---------------------------------------------------------------------------\u001b[0m",
      "\u001b[1;31mKeyError\u001b[0m                                  Traceback (most recent call last)",
      "\u001b[1;32m~\\anaconda3\\lib\\site-packages\\pandas\\core\\indexes\\base.py\u001b[0m in \u001b[0;36mget_loc\u001b[1;34m(self, key, method, tolerance)\u001b[0m\n\u001b[0;32m   3079\u001b[0m             \u001b[1;32mtry\u001b[0m\u001b[1;33m:\u001b[0m\u001b[1;33m\u001b[0m\u001b[1;33m\u001b[0m\u001b[0m\n\u001b[1;32m-> 3080\u001b[1;33m                 \u001b[1;32mreturn\u001b[0m \u001b[0mself\u001b[0m\u001b[1;33m.\u001b[0m\u001b[0m_engine\u001b[0m\u001b[1;33m.\u001b[0m\u001b[0mget_loc\u001b[0m\u001b[1;33m(\u001b[0m\u001b[0mcasted_key\u001b[0m\u001b[1;33m)\u001b[0m\u001b[1;33m\u001b[0m\u001b[1;33m\u001b[0m\u001b[0m\n\u001b[0m\u001b[0;32m   3081\u001b[0m             \u001b[1;32mexcept\u001b[0m \u001b[0mKeyError\u001b[0m \u001b[1;32mas\u001b[0m \u001b[0merr\u001b[0m\u001b[1;33m:\u001b[0m\u001b[1;33m\u001b[0m\u001b[1;33m\u001b[0m\u001b[0m\n",
      "\u001b[1;32mpandas\\_libs\\index.pyx\u001b[0m in \u001b[0;36mpandas._libs.index.IndexEngine.get_loc\u001b[1;34m()\u001b[0m\n",
      "\u001b[1;32mpandas\\_libs\\index.pyx\u001b[0m in \u001b[0;36mpandas._libs.index.IndexEngine.get_loc\u001b[1;34m()\u001b[0m\n",
      "\u001b[1;32mpandas\\_libs\\index.pyx\u001b[0m in \u001b[0;36mpandas._libs.index.IndexEngine._get_loc_duplicates\u001b[1;34m()\u001b[0m\n",
      "\u001b[1;32mpandas\\_libs\\index.pyx\u001b[0m in \u001b[0;36mpandas._libs.index.IndexEngine._maybe_get_bool_indexer\u001b[1;34m()\u001b[0m\n",
      "\u001b[1;32mpandas\\_libs\\index.pyx\u001b[0m in \u001b[0;36mpandas._libs.index.IndexEngine._unpack_bool_indexer\u001b[1;34m()\u001b[0m\n",
      "\u001b[1;31mKeyError\u001b[0m: 's70'",
      "\nThe above exception was the direct cause of the following exception:\n",
      "\u001b[1;31mKeyError\u001b[0m                                  Traceback (most recent call last)",
      "\u001b[1;32m<ipython-input-97-2c331a61babd>\u001b[0m in \u001b[0;36m<module>\u001b[1;34m\u001b[0m\n\u001b[1;32m----> 1\u001b[1;33m \u001b[0mdf\u001b[0m\u001b[1;33m[\u001b[0m\u001b[1;34m's70'\u001b[0m\u001b[1;33m]\u001b[0m\u001b[1;33m.\u001b[0m\u001b[0mvalue_counts\u001b[0m\u001b[1;33m(\u001b[0m\u001b[1;33m)\u001b[0m\u001b[1;33m\u001b[0m\u001b[1;33m\u001b[0m\u001b[0m\n\u001b[0m",
      "\u001b[1;32m~\\anaconda3\\lib\\site-packages\\pandas\\core\\frame.py\u001b[0m in \u001b[0;36m__getitem__\u001b[1;34m(self, key)\u001b[0m\n\u001b[0;32m   3022\u001b[0m             \u001b[1;32mif\u001b[0m \u001b[0mself\u001b[0m\u001b[1;33m.\u001b[0m\u001b[0mcolumns\u001b[0m\u001b[1;33m.\u001b[0m\u001b[0mnlevels\u001b[0m \u001b[1;33m>\u001b[0m \u001b[1;36m1\u001b[0m\u001b[1;33m:\u001b[0m\u001b[1;33m\u001b[0m\u001b[1;33m\u001b[0m\u001b[0m\n\u001b[0;32m   3023\u001b[0m                 \u001b[1;32mreturn\u001b[0m \u001b[0mself\u001b[0m\u001b[1;33m.\u001b[0m\u001b[0m_getitem_multilevel\u001b[0m\u001b[1;33m(\u001b[0m\u001b[0mkey\u001b[0m\u001b[1;33m)\u001b[0m\u001b[1;33m\u001b[0m\u001b[1;33m\u001b[0m\u001b[0m\n\u001b[1;32m-> 3024\u001b[1;33m             \u001b[0mindexer\u001b[0m \u001b[1;33m=\u001b[0m \u001b[0mself\u001b[0m\u001b[1;33m.\u001b[0m\u001b[0mcolumns\u001b[0m\u001b[1;33m.\u001b[0m\u001b[0mget_loc\u001b[0m\u001b[1;33m(\u001b[0m\u001b[0mkey\u001b[0m\u001b[1;33m)\u001b[0m\u001b[1;33m\u001b[0m\u001b[1;33m\u001b[0m\u001b[0m\n\u001b[0m\u001b[0;32m   3025\u001b[0m             \u001b[1;32mif\u001b[0m \u001b[0mis_integer\u001b[0m\u001b[1;33m(\u001b[0m\u001b[0mindexer\u001b[0m\u001b[1;33m)\u001b[0m\u001b[1;33m:\u001b[0m\u001b[1;33m\u001b[0m\u001b[1;33m\u001b[0m\u001b[0m\n\u001b[0;32m   3026\u001b[0m                 \u001b[0mindexer\u001b[0m \u001b[1;33m=\u001b[0m \u001b[1;33m[\u001b[0m\u001b[0mindexer\u001b[0m\u001b[1;33m]\u001b[0m\u001b[1;33m\u001b[0m\u001b[1;33m\u001b[0m\u001b[0m\n",
      "\u001b[1;32m~\\anaconda3\\lib\\site-packages\\pandas\\core\\indexes\\base.py\u001b[0m in \u001b[0;36mget_loc\u001b[1;34m(self, key, method, tolerance)\u001b[0m\n\u001b[0;32m   3080\u001b[0m                 \u001b[1;32mreturn\u001b[0m \u001b[0mself\u001b[0m\u001b[1;33m.\u001b[0m\u001b[0m_engine\u001b[0m\u001b[1;33m.\u001b[0m\u001b[0mget_loc\u001b[0m\u001b[1;33m(\u001b[0m\u001b[0mcasted_key\u001b[0m\u001b[1;33m)\u001b[0m\u001b[1;33m\u001b[0m\u001b[1;33m\u001b[0m\u001b[0m\n\u001b[0;32m   3081\u001b[0m             \u001b[1;32mexcept\u001b[0m \u001b[0mKeyError\u001b[0m \u001b[1;32mas\u001b[0m \u001b[0merr\u001b[0m\u001b[1;33m:\u001b[0m\u001b[1;33m\u001b[0m\u001b[1;33m\u001b[0m\u001b[0m\n\u001b[1;32m-> 3082\u001b[1;33m                 \u001b[1;32mraise\u001b[0m \u001b[0mKeyError\u001b[0m\u001b[1;33m(\u001b[0m\u001b[0mkey\u001b[0m\u001b[1;33m)\u001b[0m \u001b[1;32mfrom\u001b[0m \u001b[0merr\u001b[0m\u001b[1;33m\u001b[0m\u001b[1;33m\u001b[0m\u001b[0m\n\u001b[0m\u001b[0;32m   3083\u001b[0m \u001b[1;33m\u001b[0m\u001b[0m\n\u001b[0;32m   3084\u001b[0m         \u001b[1;32mif\u001b[0m \u001b[0mtolerance\u001b[0m \u001b[1;32mis\u001b[0m \u001b[1;32mnot\u001b[0m \u001b[1;32mNone\u001b[0m\u001b[1;33m:\u001b[0m\u001b[1;33m\u001b[0m\u001b[1;33m\u001b[0m\u001b[0m\n",
      "\u001b[1;31mKeyError\u001b[0m: 's70'"
     ]
    }
   ],
   "source": [
    "df['s70'].value_counts()"
   ]
  },
  {
   "cell_type": "code",
   "execution_count": 98,
   "id": "3e51927c",
   "metadata": {},
   "outputs": [
    {
     "ename": "KeyError",
     "evalue": "'s70'",
     "output_type": "error",
     "traceback": [
      "\u001b[1;31m---------------------------------------------------------------------------\u001b[0m",
      "\u001b[1;31mKeyError\u001b[0m                                  Traceback (most recent call last)",
      "\u001b[1;32m~\\anaconda3\\lib\\site-packages\\pandas\\core\\indexes\\base.py\u001b[0m in \u001b[0;36mget_loc\u001b[1;34m(self, key, method, tolerance)\u001b[0m\n\u001b[0;32m   3079\u001b[0m             \u001b[1;32mtry\u001b[0m\u001b[1;33m:\u001b[0m\u001b[1;33m\u001b[0m\u001b[1;33m\u001b[0m\u001b[0m\n\u001b[1;32m-> 3080\u001b[1;33m                 \u001b[1;32mreturn\u001b[0m \u001b[0mself\u001b[0m\u001b[1;33m.\u001b[0m\u001b[0m_engine\u001b[0m\u001b[1;33m.\u001b[0m\u001b[0mget_loc\u001b[0m\u001b[1;33m(\u001b[0m\u001b[0mcasted_key\u001b[0m\u001b[1;33m)\u001b[0m\u001b[1;33m\u001b[0m\u001b[1;33m\u001b[0m\u001b[0m\n\u001b[0m\u001b[0;32m   3081\u001b[0m             \u001b[1;32mexcept\u001b[0m \u001b[0mKeyError\u001b[0m \u001b[1;32mas\u001b[0m \u001b[0merr\u001b[0m\u001b[1;33m:\u001b[0m\u001b[1;33m\u001b[0m\u001b[1;33m\u001b[0m\u001b[0m\n",
      "\u001b[1;32mpandas\\_libs\\index.pyx\u001b[0m in \u001b[0;36mpandas._libs.index.IndexEngine.get_loc\u001b[1;34m()\u001b[0m\n",
      "\u001b[1;32mpandas\\_libs\\index.pyx\u001b[0m in \u001b[0;36mpandas._libs.index.IndexEngine.get_loc\u001b[1;34m()\u001b[0m\n",
      "\u001b[1;32mpandas\\_libs\\index.pyx\u001b[0m in \u001b[0;36mpandas._libs.index.IndexEngine._get_loc_duplicates\u001b[1;34m()\u001b[0m\n",
      "\u001b[1;32mpandas\\_libs\\index.pyx\u001b[0m in \u001b[0;36mpandas._libs.index.IndexEngine._maybe_get_bool_indexer\u001b[1;34m()\u001b[0m\n",
      "\u001b[1;32mpandas\\_libs\\index.pyx\u001b[0m in \u001b[0;36mpandas._libs.index.IndexEngine._unpack_bool_indexer\u001b[1;34m()\u001b[0m\n",
      "\u001b[1;31mKeyError\u001b[0m: 's70'",
      "\nThe above exception was the direct cause of the following exception:\n",
      "\u001b[1;31mKeyError\u001b[0m                                  Traceback (most recent call last)",
      "\u001b[1;32m<ipython-input-98-7c065933a0bf>\u001b[0m in \u001b[0;36m<module>\u001b[1;34m\u001b[0m\n\u001b[1;32m----> 1\u001b[1;33m \u001b[0mdf\u001b[0m\u001b[1;33m[\u001b[0m\u001b[1;34m's70'\u001b[0m\u001b[1;33m]\u001b[0m\u001b[1;33m=\u001b[0m\u001b[0mdf\u001b[0m\u001b[1;33m[\u001b[0m\u001b[1;34m's70'\u001b[0m\u001b[1;33m]\u001b[0m\u001b[1;33m.\u001b[0m\u001b[0mstr\u001b[0m\u001b[1;33m.\u001b[0m\u001b[0msplit\u001b[0m\u001b[1;33m(\u001b[0m\u001b[1;34m':'\u001b[0m\u001b[1;33m,\u001b[0m\u001b[0mexpand\u001b[0m\u001b[1;33m=\u001b[0m\u001b[1;32mTrue\u001b[0m\u001b[1;33m)\u001b[0m\u001b[1;33m[\u001b[0m\u001b[1;36m1\u001b[0m\u001b[1;33m]\u001b[0m\u001b[1;33m\u001b[0m\u001b[1;33m\u001b[0m\u001b[0m\n\u001b[0m",
      "\u001b[1;32m~\\anaconda3\\lib\\site-packages\\pandas\\core\\frame.py\u001b[0m in \u001b[0;36m__getitem__\u001b[1;34m(self, key)\u001b[0m\n\u001b[0;32m   3022\u001b[0m             \u001b[1;32mif\u001b[0m \u001b[0mself\u001b[0m\u001b[1;33m.\u001b[0m\u001b[0mcolumns\u001b[0m\u001b[1;33m.\u001b[0m\u001b[0mnlevels\u001b[0m \u001b[1;33m>\u001b[0m \u001b[1;36m1\u001b[0m\u001b[1;33m:\u001b[0m\u001b[1;33m\u001b[0m\u001b[1;33m\u001b[0m\u001b[0m\n\u001b[0;32m   3023\u001b[0m                 \u001b[1;32mreturn\u001b[0m \u001b[0mself\u001b[0m\u001b[1;33m.\u001b[0m\u001b[0m_getitem_multilevel\u001b[0m\u001b[1;33m(\u001b[0m\u001b[0mkey\u001b[0m\u001b[1;33m)\u001b[0m\u001b[1;33m\u001b[0m\u001b[1;33m\u001b[0m\u001b[0m\n\u001b[1;32m-> 3024\u001b[1;33m             \u001b[0mindexer\u001b[0m \u001b[1;33m=\u001b[0m \u001b[0mself\u001b[0m\u001b[1;33m.\u001b[0m\u001b[0mcolumns\u001b[0m\u001b[1;33m.\u001b[0m\u001b[0mget_loc\u001b[0m\u001b[1;33m(\u001b[0m\u001b[0mkey\u001b[0m\u001b[1;33m)\u001b[0m\u001b[1;33m\u001b[0m\u001b[1;33m\u001b[0m\u001b[0m\n\u001b[0m\u001b[0;32m   3025\u001b[0m             \u001b[1;32mif\u001b[0m \u001b[0mis_integer\u001b[0m\u001b[1;33m(\u001b[0m\u001b[0mindexer\u001b[0m\u001b[1;33m)\u001b[0m\u001b[1;33m:\u001b[0m\u001b[1;33m\u001b[0m\u001b[1;33m\u001b[0m\u001b[0m\n\u001b[0;32m   3026\u001b[0m                 \u001b[0mindexer\u001b[0m \u001b[1;33m=\u001b[0m \u001b[1;33m[\u001b[0m\u001b[0mindexer\u001b[0m\u001b[1;33m]\u001b[0m\u001b[1;33m\u001b[0m\u001b[1;33m\u001b[0m\u001b[0m\n",
      "\u001b[1;32m~\\anaconda3\\lib\\site-packages\\pandas\\core\\indexes\\base.py\u001b[0m in \u001b[0;36mget_loc\u001b[1;34m(self, key, method, tolerance)\u001b[0m\n\u001b[0;32m   3080\u001b[0m                 \u001b[1;32mreturn\u001b[0m \u001b[0mself\u001b[0m\u001b[1;33m.\u001b[0m\u001b[0m_engine\u001b[0m\u001b[1;33m.\u001b[0m\u001b[0mget_loc\u001b[0m\u001b[1;33m(\u001b[0m\u001b[0mcasted_key\u001b[0m\u001b[1;33m)\u001b[0m\u001b[1;33m\u001b[0m\u001b[1;33m\u001b[0m\u001b[0m\n\u001b[0;32m   3081\u001b[0m             \u001b[1;32mexcept\u001b[0m \u001b[0mKeyError\u001b[0m \u001b[1;32mas\u001b[0m \u001b[0merr\u001b[0m\u001b[1;33m:\u001b[0m\u001b[1;33m\u001b[0m\u001b[1;33m\u001b[0m\u001b[0m\n\u001b[1;32m-> 3082\u001b[1;33m                 \u001b[1;32mraise\u001b[0m \u001b[0mKeyError\u001b[0m\u001b[1;33m(\u001b[0m\u001b[0mkey\u001b[0m\u001b[1;33m)\u001b[0m \u001b[1;32mfrom\u001b[0m \u001b[0merr\u001b[0m\u001b[1;33m\u001b[0m\u001b[1;33m\u001b[0m\u001b[0m\n\u001b[0m\u001b[0;32m   3083\u001b[0m \u001b[1;33m\u001b[0m\u001b[0m\n\u001b[0;32m   3084\u001b[0m         \u001b[1;32mif\u001b[0m \u001b[0mtolerance\u001b[0m \u001b[1;32mis\u001b[0m \u001b[1;32mnot\u001b[0m \u001b[1;32mNone\u001b[0m\u001b[1;33m:\u001b[0m\u001b[1;33m\u001b[0m\u001b[1;33m\u001b[0m\u001b[0m\n",
      "\u001b[1;31mKeyError\u001b[0m: 's70'"
     ]
    }
   ],
   "source": [
    "df['s70']=df['s70'].str.split(':',expand=True)[1]"
   ]
  },
  {
   "cell_type": "code",
   "execution_count": 24,
   "id": "c76fd5e7",
   "metadata": {
    "scrolled": true
   },
   "outputs": [
    {
     "data": {
      "text/plain": [
       "0         D\n",
       "1         D\n",
       "2         D\n",
       "3         D\n",
       "4         D\n",
       "         ..\n",
       "28317     D\n",
       "28318     D\n",
       "28319     D\n",
       "28320     C\n",
       "28321     D\n",
       "Name: s70, Length: 28322, dtype: object"
      ]
     },
     "execution_count": 24,
     "metadata": {},
     "output_type": "execute_result"
    }
   ],
   "source": [
    "df['s70']"
   ]
  },
  {
   "cell_type": "markdown",
   "id": "aa054604",
   "metadata": {},
   "source": [
    "### capitalizing s71"
   ]
  },
  {
   "cell_type": "code",
   "execution_count": 25,
   "id": "c2758cca",
   "metadata": {},
   "outputs": [],
   "source": [
    "df['s71']=df['s71'].str.upper()"
   ]
  },
  {
   "cell_type": "code",
   "execution_count": 26,
   "id": "7ad9d93b",
   "metadata": {
    "scrolled": true
   },
   "outputs": [
    {
     "data": {
      "text/plain": [
       "0        B\n",
       "1        B\n",
       "2        B\n",
       "3        B\n",
       "4        D\n",
       "        ..\n",
       "28317    B\n",
       "28318    B\n",
       "28319    B\n",
       "28320    B\n",
       "28321    B\n",
       "Name: s71, Length: 28322, dtype: object"
      ]
     },
     "execution_count": 26,
     "metadata": {},
     "output_type": "execute_result"
    }
   ],
   "source": [
    "df['s71']"
   ]
  },
  {
   "cell_type": "markdown",
   "id": "9b1a120f",
   "metadata": {},
   "source": [
    "### preprocessing feature s52"
   ]
  },
  {
   "cell_type": "code",
   "execution_count": 27,
   "id": "3b2450a5",
   "metadata": {
    "scrolled": true
   },
   "outputs": [
    {
     "data": {
      "text/plain": [
       "array(['1', 'l', '0', 'o'], dtype=object)"
      ]
     },
     "execution_count": 27,
     "metadata": {},
     "output_type": "execute_result"
    }
   ],
   "source": [
    "df['s52'].unique()"
   ]
  },
  {
   "cell_type": "code",
   "execution_count": 28,
   "id": "8f851ca0",
   "metadata": {},
   "outputs": [
    {
     "data": {
      "text/plain": [
       "1    20524\n",
       "l     6508\n",
       "0     1094\n",
       "o      196\n",
       "Name: s52, dtype: int64"
      ]
     },
     "execution_count": 28,
     "metadata": {},
     "output_type": "execute_result"
    }
   ],
   "source": [
    "df['s52'].value_counts()"
   ]
  },
  {
   "cell_type": "code",
   "execution_count": 29,
   "id": "635ab694",
   "metadata": {},
   "outputs": [],
   "source": [
    "df['s52']=df['s52'].apply(lambda x: x.replace('l','1').replace('o','0'))"
   ]
  },
  {
   "cell_type": "code",
   "execution_count": 30,
   "id": "6c7db2dc",
   "metadata": {},
   "outputs": [
    {
     "data": {
      "text/plain": [
       "1    27032\n",
       "0     1290\n",
       "Name: s52, dtype: int64"
      ]
     },
     "execution_count": 30,
     "metadata": {},
     "output_type": "execute_result"
    }
   ],
   "source": [
    "df['s52'].value_counts()"
   ]
  },
  {
   "cell_type": "code",
   "execution_count": 31,
   "id": "83988d65",
   "metadata": {},
   "outputs": [],
   "source": [
    "X, y = df.iloc[:, :-1], df.iloc[:, [-1]]"
   ]
  },
  {
   "cell_type": "code",
   "execution_count": 32,
   "id": "1aa770dd",
   "metadata": {},
   "outputs": [
    {
     "data": {
      "text/plain": [
       "id         object\n",
       "gender     object\n",
       "s11        object\n",
       "s12        object\n",
       "s13         int64\n",
       "s16        object\n",
       "s17        object\n",
       "s18        object\n",
       "s48         int64\n",
       "s52        object\n",
       "s53        object\n",
       "s54        object\n",
       "s55        object\n",
       "s58        object\n",
       "s69        object\n",
       "s70        object\n",
       "s71        object\n",
       "n1        float64\n",
       "n2        float64\n",
       "n3          int64\n",
       "n4        float64\n",
       "n5        float64\n",
       "n6        float64\n",
       "n7        float64\n",
       "n8        float64\n",
       "n9        float64\n",
       "n10       float64\n",
       "n11       float64\n",
       "n12         int64\n",
       "n13         int64\n",
       "n14       float64\n",
       "n15         int64\n",
       "dtype: object"
      ]
     },
     "execution_count": 32,
     "metadata": {},
     "output_type": "execute_result"
    }
   ],
   "source": [
    "X.dtypes"
   ]
  },
  {
   "cell_type": "code",
   "execution_count": 33,
   "id": "f1029c78",
   "metadata": {},
   "outputs": [
    {
     "data": {
      "text/plain": [
       "Index(['label'], dtype='object')"
      ]
     },
     "execution_count": 33,
     "metadata": {},
     "output_type": "execute_result"
    }
   ],
   "source": [
    "y.columns"
   ]
  },
  {
   "cell_type": "code",
   "execution_count": 34,
   "id": "b913d7d2",
   "metadata": {},
   "outputs": [
    {
     "data": {
      "text/plain": [
       "Index(['id', 'gender', 's11', 's12', 's13', 's16', 's17', 's18', 's48', 's52',\n",
       "       's53', 's54', 's55', 's58', 's69', 's70', 's71', 'n1', 'n2', 'n3', 'n4',\n",
       "       'n5', 'n6', 'n7', 'n8', 'n9', 'n10', 'n11', 'n12', 'n13', 'n14', 'n15'],\n",
       "      dtype='object')"
      ]
     },
     "execution_count": 34,
     "metadata": {},
     "output_type": "execute_result"
    }
   ],
   "source": [
    "X.columns"
   ]
  },
  {
   "cell_type": "code",
   "execution_count": 35,
   "id": "c28860af",
   "metadata": {},
   "outputs": [
    {
     "data": {
      "text/html": [
       "<div>\n",
       "<style scoped>\n",
       "    .dataframe tbody tr th:only-of-type {\n",
       "        vertical-align: middle;\n",
       "    }\n",
       "\n",
       "    .dataframe tbody tr th {\n",
       "        vertical-align: top;\n",
       "    }\n",
       "\n",
       "    .dataframe thead th {\n",
       "        text-align: right;\n",
       "    }\n",
       "</style>\n",
       "<table border=\"1\" class=\"dataframe\">\n",
       "  <thead>\n",
       "    <tr style=\"text-align: right;\">\n",
       "      <th></th>\n",
       "      <th>s13</th>\n",
       "      <th>s48</th>\n",
       "      <th>n1</th>\n",
       "      <th>n2</th>\n",
       "      <th>n3</th>\n",
       "      <th>n4</th>\n",
       "      <th>n5</th>\n",
       "      <th>n6</th>\n",
       "      <th>n7</th>\n",
       "      <th>n8</th>\n",
       "      <th>n9</th>\n",
       "      <th>n10</th>\n",
       "      <th>n11</th>\n",
       "      <th>n12</th>\n",
       "      <th>n13</th>\n",
       "      <th>n14</th>\n",
       "      <th>n15</th>\n",
       "    </tr>\n",
       "  </thead>\n",
       "  <tbody>\n",
       "    <tr>\n",
       "      <th>s13</th>\n",
       "      <td>1.000000</td>\n",
       "      <td>-0.107237</td>\n",
       "      <td>-0.059313</td>\n",
       "      <td>-0.059919</td>\n",
       "      <td>0.055319</td>\n",
       "      <td>0.012209</td>\n",
       "      <td>-0.090193</td>\n",
       "      <td>-0.094815</td>\n",
       "      <td>0.044618</td>\n",
       "      <td>-0.064532</td>\n",
       "      <td>-0.029764</td>\n",
       "      <td>0.035100</td>\n",
       "      <td>0.014183</td>\n",
       "      <td>0.002139</td>\n",
       "      <td>-0.006929</td>\n",
       "      <td>0.000816</td>\n",
       "      <td>-0.003288</td>\n",
       "    </tr>\n",
       "    <tr>\n",
       "      <th>s48</th>\n",
       "      <td>-0.107237</td>\n",
       "      <td>1.000000</td>\n",
       "      <td>-0.031168</td>\n",
       "      <td>-0.033586</td>\n",
       "      <td>0.051126</td>\n",
       "      <td>-0.088057</td>\n",
       "      <td>0.007119</td>\n",
       "      <td>-0.116692</td>\n",
       "      <td>0.026812</td>\n",
       "      <td>-0.010002</td>\n",
       "      <td>0.092835</td>\n",
       "      <td>0.055772</td>\n",
       "      <td>0.000968</td>\n",
       "      <td>0.003127</td>\n",
       "      <td>0.003117</td>\n",
       "      <td>0.005858</td>\n",
       "      <td>0.008473</td>\n",
       "    </tr>\n",
       "    <tr>\n",
       "      <th>n1</th>\n",
       "      <td>-0.059313</td>\n",
       "      <td>-0.031168</td>\n",
       "      <td>1.000000</td>\n",
       "      <td>0.855794</td>\n",
       "      <td>0.289057</td>\n",
       "      <td>0.131877</td>\n",
       "      <td>0.166290</td>\n",
       "      <td>0.081274</td>\n",
       "      <td>0.602224</td>\n",
       "      <td>0.662666</td>\n",
       "      <td>0.393686</td>\n",
       "      <td>0.490394</td>\n",
       "      <td>-0.004650</td>\n",
       "      <td>0.003443</td>\n",
       "      <td>0.010118</td>\n",
       "      <td>-0.002616</td>\n",
       "      <td>-0.006759</td>\n",
       "    </tr>\n",
       "    <tr>\n",
       "      <th>n2</th>\n",
       "      <td>-0.059919</td>\n",
       "      <td>-0.033586</td>\n",
       "      <td>0.855794</td>\n",
       "      <td>1.000000</td>\n",
       "      <td>0.321529</td>\n",
       "      <td>0.154993</td>\n",
       "      <td>0.135346</td>\n",
       "      <td>0.026397</td>\n",
       "      <td>0.624320</td>\n",
       "      <td>0.648843</td>\n",
       "      <td>0.401184</td>\n",
       "      <td>0.525765</td>\n",
       "      <td>-0.006222</td>\n",
       "      <td>-0.001333</td>\n",
       "      <td>0.014115</td>\n",
       "      <td>-0.002258</td>\n",
       "      <td>-0.006553</td>\n",
       "    </tr>\n",
       "    <tr>\n",
       "      <th>n3</th>\n",
       "      <td>0.055319</td>\n",
       "      <td>0.051126</td>\n",
       "      <td>0.289057</td>\n",
       "      <td>0.321529</td>\n",
       "      <td>1.000000</td>\n",
       "      <td>0.222131</td>\n",
       "      <td>-0.056097</td>\n",
       "      <td>-0.425036</td>\n",
       "      <td>0.640050</td>\n",
       "      <td>0.220419</td>\n",
       "      <td>0.395780</td>\n",
       "      <td>0.604656</td>\n",
       "      <td>-0.000420</td>\n",
       "      <td>0.003415</td>\n",
       "      <td>0.002704</td>\n",
       "      <td>-0.006510</td>\n",
       "      <td>-0.005514</td>\n",
       "    </tr>\n",
       "    <tr>\n",
       "      <th>n4</th>\n",
       "      <td>0.012209</td>\n",
       "      <td>-0.088057</td>\n",
       "      <td>0.131877</td>\n",
       "      <td>0.154993</td>\n",
       "      <td>0.222131</td>\n",
       "      <td>1.000000</td>\n",
       "      <td>0.050772</td>\n",
       "      <td>-0.088265</td>\n",
       "      <td>0.223498</td>\n",
       "      <td>0.058810</td>\n",
       "      <td>0.168241</td>\n",
       "      <td>0.204752</td>\n",
       "      <td>-0.010558</td>\n",
       "      <td>0.000877</td>\n",
       "      <td>0.007066</td>\n",
       "      <td>0.000621</td>\n",
       "      <td>-0.000099</td>\n",
       "    </tr>\n",
       "    <tr>\n",
       "      <th>n5</th>\n",
       "      <td>-0.090193</td>\n",
       "      <td>0.007119</td>\n",
       "      <td>0.166290</td>\n",
       "      <td>0.135346</td>\n",
       "      <td>-0.056097</td>\n",
       "      <td>0.050772</td>\n",
       "      <td>1.000000</td>\n",
       "      <td>0.426532</td>\n",
       "      <td>-0.093723</td>\n",
       "      <td>0.105349</td>\n",
       "      <td>0.124063</td>\n",
       "      <td>-0.160737</td>\n",
       "      <td>0.005097</td>\n",
       "      <td>-0.008544</td>\n",
       "      <td>0.001276</td>\n",
       "      <td>-0.014498</td>\n",
       "      <td>0.000468</td>\n",
       "    </tr>\n",
       "    <tr>\n",
       "      <th>n6</th>\n",
       "      <td>-0.094815</td>\n",
       "      <td>-0.116692</td>\n",
       "      <td>0.081274</td>\n",
       "      <td>0.026397</td>\n",
       "      <td>-0.425036</td>\n",
       "      <td>-0.088265</td>\n",
       "      <td>0.426532</td>\n",
       "      <td>1.000000</td>\n",
       "      <td>-0.379512</td>\n",
       "      <td>0.077969</td>\n",
       "      <td>-0.145519</td>\n",
       "      <td>-0.455716</td>\n",
       "      <td>-0.001123</td>\n",
       "      <td>-0.002986</td>\n",
       "      <td>-0.001449</td>\n",
       "      <td>-0.007769</td>\n",
       "      <td>0.005207</td>\n",
       "    </tr>\n",
       "    <tr>\n",
       "      <th>n7</th>\n",
       "      <td>0.044618</td>\n",
       "      <td>0.026812</td>\n",
       "      <td>0.602224</td>\n",
       "      <td>0.624320</td>\n",
       "      <td>0.640050</td>\n",
       "      <td>0.223498</td>\n",
       "      <td>-0.093723</td>\n",
       "      <td>-0.379512</td>\n",
       "      <td>1.000000</td>\n",
       "      <td>0.500690</td>\n",
       "      <td>0.450283</td>\n",
       "      <td>0.781825</td>\n",
       "      <td>-0.002946</td>\n",
       "      <td>0.001473</td>\n",
       "      <td>0.000887</td>\n",
       "      <td>0.003437</td>\n",
       "      <td>-0.007161</td>\n",
       "    </tr>\n",
       "    <tr>\n",
       "      <th>n8</th>\n",
       "      <td>-0.064532</td>\n",
       "      <td>-0.010002</td>\n",
       "      <td>0.662666</td>\n",
       "      <td>0.648843</td>\n",
       "      <td>0.220419</td>\n",
       "      <td>0.058810</td>\n",
       "      <td>0.105349</td>\n",
       "      <td>0.077969</td>\n",
       "      <td>0.500690</td>\n",
       "      <td>1.000000</td>\n",
       "      <td>0.289764</td>\n",
       "      <td>0.400302</td>\n",
       "      <td>-0.002946</td>\n",
       "      <td>0.003862</td>\n",
       "      <td>0.005679</td>\n",
       "      <td>-0.001934</td>\n",
       "      <td>0.001868</td>\n",
       "    </tr>\n",
       "    <tr>\n",
       "      <th>n9</th>\n",
       "      <td>-0.029764</td>\n",
       "      <td>0.092835</td>\n",
       "      <td>0.393686</td>\n",
       "      <td>0.401184</td>\n",
       "      <td>0.395780</td>\n",
       "      <td>0.168241</td>\n",
       "      <td>0.124063</td>\n",
       "      <td>-0.145519</td>\n",
       "      <td>0.450283</td>\n",
       "      <td>0.289764</td>\n",
       "      <td>1.000000</td>\n",
       "      <td>0.457136</td>\n",
       "      <td>-0.012473</td>\n",
       "      <td>-0.007773</td>\n",
       "      <td>0.008989</td>\n",
       "      <td>-0.008778</td>\n",
       "      <td>0.001764</td>\n",
       "    </tr>\n",
       "    <tr>\n",
       "      <th>n10</th>\n",
       "      <td>0.035100</td>\n",
       "      <td>0.055772</td>\n",
       "      <td>0.490394</td>\n",
       "      <td>0.525765</td>\n",
       "      <td>0.604656</td>\n",
       "      <td>0.204752</td>\n",
       "      <td>-0.160737</td>\n",
       "      <td>-0.455716</td>\n",
       "      <td>0.781825</td>\n",
       "      <td>0.400302</td>\n",
       "      <td>0.457136</td>\n",
       "      <td>1.000000</td>\n",
       "      <td>-0.000092</td>\n",
       "      <td>0.007479</td>\n",
       "      <td>0.009095</td>\n",
       "      <td>0.004541</td>\n",
       "      <td>-0.007330</td>\n",
       "    </tr>\n",
       "    <tr>\n",
       "      <th>n11</th>\n",
       "      <td>0.014183</td>\n",
       "      <td>0.000968</td>\n",
       "      <td>-0.004650</td>\n",
       "      <td>-0.006222</td>\n",
       "      <td>-0.000420</td>\n",
       "      <td>-0.010558</td>\n",
       "      <td>0.005097</td>\n",
       "      <td>-0.001123</td>\n",
       "      <td>-0.002946</td>\n",
       "      <td>-0.002946</td>\n",
       "      <td>-0.012473</td>\n",
       "      <td>-0.000092</td>\n",
       "      <td>1.000000</td>\n",
       "      <td>0.008861</td>\n",
       "      <td>-0.005727</td>\n",
       "      <td>0.002026</td>\n",
       "      <td>0.001145</td>\n",
       "    </tr>\n",
       "    <tr>\n",
       "      <th>n12</th>\n",
       "      <td>0.002139</td>\n",
       "      <td>0.003127</td>\n",
       "      <td>0.003443</td>\n",
       "      <td>-0.001333</td>\n",
       "      <td>0.003415</td>\n",
       "      <td>0.000877</td>\n",
       "      <td>-0.008544</td>\n",
       "      <td>-0.002986</td>\n",
       "      <td>0.001473</td>\n",
       "      <td>0.003862</td>\n",
       "      <td>-0.007773</td>\n",
       "      <td>0.007479</td>\n",
       "      <td>0.008861</td>\n",
       "      <td>1.000000</td>\n",
       "      <td>0.012025</td>\n",
       "      <td>-0.000911</td>\n",
       "      <td>-0.000948</td>\n",
       "    </tr>\n",
       "    <tr>\n",
       "      <th>n13</th>\n",
       "      <td>-0.006929</td>\n",
       "      <td>0.003117</td>\n",
       "      <td>0.010118</td>\n",
       "      <td>0.014115</td>\n",
       "      <td>0.002704</td>\n",
       "      <td>0.007066</td>\n",
       "      <td>0.001276</td>\n",
       "      <td>-0.001449</td>\n",
       "      <td>0.000887</td>\n",
       "      <td>0.005679</td>\n",
       "      <td>0.008989</td>\n",
       "      <td>0.009095</td>\n",
       "      <td>-0.005727</td>\n",
       "      <td>0.012025</td>\n",
       "      <td>1.000000</td>\n",
       "      <td>-0.002274</td>\n",
       "      <td>0.003618</td>\n",
       "    </tr>\n",
       "    <tr>\n",
       "      <th>n14</th>\n",
       "      <td>0.000816</td>\n",
       "      <td>0.005858</td>\n",
       "      <td>-0.002616</td>\n",
       "      <td>-0.002258</td>\n",
       "      <td>-0.006510</td>\n",
       "      <td>0.000621</td>\n",
       "      <td>-0.014498</td>\n",
       "      <td>-0.007769</td>\n",
       "      <td>0.003437</td>\n",
       "      <td>-0.001934</td>\n",
       "      <td>-0.008778</td>\n",
       "      <td>0.004541</td>\n",
       "      <td>0.002026</td>\n",
       "      <td>-0.000911</td>\n",
       "      <td>-0.002274</td>\n",
       "      <td>1.000000</td>\n",
       "      <td>-0.007707</td>\n",
       "    </tr>\n",
       "    <tr>\n",
       "      <th>n15</th>\n",
       "      <td>-0.003288</td>\n",
       "      <td>0.008473</td>\n",
       "      <td>-0.006759</td>\n",
       "      <td>-0.006553</td>\n",
       "      <td>-0.005514</td>\n",
       "      <td>-0.000099</td>\n",
       "      <td>0.000468</td>\n",
       "      <td>0.005207</td>\n",
       "      <td>-0.007161</td>\n",
       "      <td>0.001868</td>\n",
       "      <td>0.001764</td>\n",
       "      <td>-0.007330</td>\n",
       "      <td>0.001145</td>\n",
       "      <td>-0.000948</td>\n",
       "      <td>0.003618</td>\n",
       "      <td>-0.007707</td>\n",
       "      <td>1.000000</td>\n",
       "    </tr>\n",
       "  </tbody>\n",
       "</table>\n",
       "</div>"
      ],
      "text/plain": [
       "          s13       s48        n1        n2        n3        n4        n5  \\\n",
       "s13  1.000000 -0.107237 -0.059313 -0.059919  0.055319  0.012209 -0.090193   \n",
       "s48 -0.107237  1.000000 -0.031168 -0.033586  0.051126 -0.088057  0.007119   \n",
       "n1  -0.059313 -0.031168  1.000000  0.855794  0.289057  0.131877  0.166290   \n",
       "n2  -0.059919 -0.033586  0.855794  1.000000  0.321529  0.154993  0.135346   \n",
       "n3   0.055319  0.051126  0.289057  0.321529  1.000000  0.222131 -0.056097   \n",
       "n4   0.012209 -0.088057  0.131877  0.154993  0.222131  1.000000  0.050772   \n",
       "n5  -0.090193  0.007119  0.166290  0.135346 -0.056097  0.050772  1.000000   \n",
       "n6  -0.094815 -0.116692  0.081274  0.026397 -0.425036 -0.088265  0.426532   \n",
       "n7   0.044618  0.026812  0.602224  0.624320  0.640050  0.223498 -0.093723   \n",
       "n8  -0.064532 -0.010002  0.662666  0.648843  0.220419  0.058810  0.105349   \n",
       "n9  -0.029764  0.092835  0.393686  0.401184  0.395780  0.168241  0.124063   \n",
       "n10  0.035100  0.055772  0.490394  0.525765  0.604656  0.204752 -0.160737   \n",
       "n11  0.014183  0.000968 -0.004650 -0.006222 -0.000420 -0.010558  0.005097   \n",
       "n12  0.002139  0.003127  0.003443 -0.001333  0.003415  0.000877 -0.008544   \n",
       "n13 -0.006929  0.003117  0.010118  0.014115  0.002704  0.007066  0.001276   \n",
       "n14  0.000816  0.005858 -0.002616 -0.002258 -0.006510  0.000621 -0.014498   \n",
       "n15 -0.003288  0.008473 -0.006759 -0.006553 -0.005514 -0.000099  0.000468   \n",
       "\n",
       "           n6        n7        n8        n9       n10       n11       n12  \\\n",
       "s13 -0.094815  0.044618 -0.064532 -0.029764  0.035100  0.014183  0.002139   \n",
       "s48 -0.116692  0.026812 -0.010002  0.092835  0.055772  0.000968  0.003127   \n",
       "n1   0.081274  0.602224  0.662666  0.393686  0.490394 -0.004650  0.003443   \n",
       "n2   0.026397  0.624320  0.648843  0.401184  0.525765 -0.006222 -0.001333   \n",
       "n3  -0.425036  0.640050  0.220419  0.395780  0.604656 -0.000420  0.003415   \n",
       "n4  -0.088265  0.223498  0.058810  0.168241  0.204752 -0.010558  0.000877   \n",
       "n5   0.426532 -0.093723  0.105349  0.124063 -0.160737  0.005097 -0.008544   \n",
       "n6   1.000000 -0.379512  0.077969 -0.145519 -0.455716 -0.001123 -0.002986   \n",
       "n7  -0.379512  1.000000  0.500690  0.450283  0.781825 -0.002946  0.001473   \n",
       "n8   0.077969  0.500690  1.000000  0.289764  0.400302 -0.002946  0.003862   \n",
       "n9  -0.145519  0.450283  0.289764  1.000000  0.457136 -0.012473 -0.007773   \n",
       "n10 -0.455716  0.781825  0.400302  0.457136  1.000000 -0.000092  0.007479   \n",
       "n11 -0.001123 -0.002946 -0.002946 -0.012473 -0.000092  1.000000  0.008861   \n",
       "n12 -0.002986  0.001473  0.003862 -0.007773  0.007479  0.008861  1.000000   \n",
       "n13 -0.001449  0.000887  0.005679  0.008989  0.009095 -0.005727  0.012025   \n",
       "n14 -0.007769  0.003437 -0.001934 -0.008778  0.004541  0.002026 -0.000911   \n",
       "n15  0.005207 -0.007161  0.001868  0.001764 -0.007330  0.001145 -0.000948   \n",
       "\n",
       "          n13       n14       n15  \n",
       "s13 -0.006929  0.000816 -0.003288  \n",
       "s48  0.003117  0.005858  0.008473  \n",
       "n1   0.010118 -0.002616 -0.006759  \n",
       "n2   0.014115 -0.002258 -0.006553  \n",
       "n3   0.002704 -0.006510 -0.005514  \n",
       "n4   0.007066  0.000621 -0.000099  \n",
       "n5   0.001276 -0.014498  0.000468  \n",
       "n6  -0.001449 -0.007769  0.005207  \n",
       "n7   0.000887  0.003437 -0.007161  \n",
       "n8   0.005679 -0.001934  0.001868  \n",
       "n9   0.008989 -0.008778  0.001764  \n",
       "n10  0.009095  0.004541 -0.007330  \n",
       "n11 -0.005727  0.002026  0.001145  \n",
       "n12  0.012025 -0.000911 -0.000948  \n",
       "n13  1.000000 -0.002274  0.003618  \n",
       "n14 -0.002274  1.000000 -0.007707  \n",
       "n15  0.003618 -0.007707  1.000000  "
      ]
     },
     "execution_count": 35,
     "metadata": {},
     "output_type": "execute_result"
    }
   ],
   "source": [
    "X.corr()"
   ]
  },
  {
   "cell_type": "code",
   "execution_count": 66,
   "id": "334a8f3b",
   "metadata": {},
   "outputs": [],
   "source": [
    "df = pd.concat([df, pd.get_dummies(df['gender'])], axis=1)\n",
    "df=df.drop(['gender'], axis = 1)"
   ]
  },
  {
   "cell_type": "code",
   "execution_count": 67,
   "id": "36077cd1",
   "metadata": {},
   "outputs": [
    {
     "data": {
      "text/html": [
       "<div>\n",
       "<style scoped>\n",
       "    .dataframe tbody tr th:only-of-type {\n",
       "        vertical-align: middle;\n",
       "    }\n",
       "\n",
       "    .dataframe tbody tr th {\n",
       "        vertical-align: top;\n",
       "    }\n",
       "\n",
       "    .dataframe thead th {\n",
       "        text-align: right;\n",
       "    }\n",
       "</style>\n",
       "<table border=\"1\" class=\"dataframe\">\n",
       "  <thead>\n",
       "    <tr style=\"text-align: right;\">\n",
       "      <th></th>\n",
       "      <th>id</th>\n",
       "      <th>s11</th>\n",
       "      <th>s12</th>\n",
       "      <th>s13</th>\n",
       "      <th>s16</th>\n",
       "      <th>s17</th>\n",
       "      <th>s18</th>\n",
       "      <th>s48</th>\n",
       "      <th>s52</th>\n",
       "      <th>s53</th>\n",
       "      <th>...</th>\n",
       "      <th>n11</th>\n",
       "      <th>n12</th>\n",
       "      <th>n13</th>\n",
       "      <th>n14</th>\n",
       "      <th>n15</th>\n",
       "      <th>label</th>\n",
       "      <th>F</th>\n",
       "      <th>M</th>\n",
       "      <th>F</th>\n",
       "      <th>M</th>\n",
       "    </tr>\n",
       "  </thead>\n",
       "  <tbody>\n",
       "    <tr>\n",
       "      <th>0</th>\n",
       "      <td>b'gAAAAABinOicS09vrmgh0_JyEHihI13ptO0rCyHP7l76...</td>\n",
       "      <td>Y</td>\n",
       "      <td>N</td>\n",
       "      <td>1</td>\n",
       "      <td>D</td>\n",
       "      <td>D</td>\n",
       "      <td>B</td>\n",
       "      <td>0</td>\n",
       "      <td>1</td>\n",
       "      <td></td>\n",
       "      <td>...</td>\n",
       "      <td>1.544484</td>\n",
       "      <td>0</td>\n",
       "      <td>0</td>\n",
       "      <td>0.631220</td>\n",
       "      <td>5</td>\n",
       "      <td>0</td>\n",
       "      <td>0</td>\n",
       "      <td>1</td>\n",
       "      <td>0</td>\n",
       "      <td>1</td>\n",
       "    </tr>\n",
       "    <tr>\n",
       "      <th>1</th>\n",
       "      <td>b'gAAAAABinOiWGC1WhR6WYP0DA5ssGv9rIekrWUwCdJ8F...</td>\n",
       "      <td>Y</td>\n",
       "      <td>Y</td>\n",
       "      <td>1</td>\n",
       "      <td>D</td>\n",
       "      <td>D</td>\n",
       "      <td>B</td>\n",
       "      <td>1</td>\n",
       "      <td>1</td>\n",
       "      <td></td>\n",
       "      <td>...</td>\n",
       "      <td>1.712354</td>\n",
       "      <td>0</td>\n",
       "      <td>0</td>\n",
       "      <td>0.392746</td>\n",
       "      <td>3</td>\n",
       "      <td>1</td>\n",
       "      <td>0</td>\n",
       "      <td>1</td>\n",
       "      <td>0</td>\n",
       "      <td>1</td>\n",
       "    </tr>\n",
       "    <tr>\n",
       "      <th>2</th>\n",
       "      <td>b'gAAAAABinOibTcOBFIVeA4nVF3FuFz_QX3ZlPPFc21gS...</td>\n",
       "      <td>Y</td>\n",
       "      <td>Y</td>\n",
       "      <td>1</td>\n",
       "      <td>D</td>\n",
       "      <td>D</td>\n",
       "      <td>B</td>\n",
       "      <td>0</td>\n",
       "      <td>1</td>\n",
       "      <td></td>\n",
       "      <td>...</td>\n",
       "      <td>1.804260</td>\n",
       "      <td>0</td>\n",
       "      <td>0</td>\n",
       "      <td>0.222537</td>\n",
       "      <td>2</td>\n",
       "      <td>0</td>\n",
       "      <td>0</td>\n",
       "      <td>1</td>\n",
       "      <td>0</td>\n",
       "      <td>1</td>\n",
       "    </tr>\n",
       "    <tr>\n",
       "      <th>3</th>\n",
       "      <td>b'gAAAAABinOig-g3-Q1ggjlMhfUSdn21Aj5yVVeVvXbis...</td>\n",
       "      <td>Y</td>\n",
       "      <td>Y</td>\n",
       "      <td>1</td>\n",
       "      <td>D</td>\n",
       "      <td>D</td>\n",
       "      <td>B</td>\n",
       "      <td>0</td>\n",
       "      <td>1</td>\n",
       "      <td></td>\n",
       "      <td>...</td>\n",
       "      <td>1.537645</td>\n",
       "      <td>0</td>\n",
       "      <td>0</td>\n",
       "      <td>0.154409</td>\n",
       "      <td>4</td>\n",
       "      <td>0</td>\n",
       "      <td>1</td>\n",
       "      <td>0</td>\n",
       "      <td>1</td>\n",
       "      <td>0</td>\n",
       "    </tr>\n",
       "    <tr>\n",
       "      <th>4</th>\n",
       "      <td>b'gAAAAABinOiXdoaNUzihOSbyY1tjWtd5EgMaXkkvH6SV...</td>\n",
       "      <td>N</td>\n",
       "      <td>Y</td>\n",
       "      <td>1</td>\n",
       "      <td>B</td>\n",
       "      <td>D</td>\n",
       "      <td>D</td>\n",
       "      <td>1</td>\n",
       "      <td>1</td>\n",
       "      <td></td>\n",
       "      <td>...</td>\n",
       "      <td>1.637831</td>\n",
       "      <td>0</td>\n",
       "      <td>1</td>\n",
       "      <td>0.737560</td>\n",
       "      <td>1</td>\n",
       "      <td>0</td>\n",
       "      <td>0</td>\n",
       "      <td>1</td>\n",
       "      <td>0</td>\n",
       "      <td>1</td>\n",
       "    </tr>\n",
       "  </tbody>\n",
       "</table>\n",
       "<p>5 rows × 36 columns</p>\n",
       "</div>"
      ],
      "text/plain": [
       "                                                  id s11 s12  s13 s16 s17 s18  \\\n",
       "0  b'gAAAAABinOicS09vrmgh0_JyEHihI13ptO0rCyHP7l76...   Y   N    1   D   D   B   \n",
       "1  b'gAAAAABinOiWGC1WhR6WYP0DA5ssGv9rIekrWUwCdJ8F...   Y   Y    1   D   D   B   \n",
       "2  b'gAAAAABinOibTcOBFIVeA4nVF3FuFz_QX3ZlPPFc21gS...   Y   Y    1   D   D   B   \n",
       "3  b'gAAAAABinOig-g3-Q1ggjlMhfUSdn21Aj5yVVeVvXbis...   Y   Y    1   D   D   B   \n",
       "4  b'gAAAAABinOiXdoaNUzihOSbyY1tjWtd5EgMaXkkvH6SV...   N   Y    1   B   D   D   \n",
       "\n",
       "   s48 s52 s53  ...       n11 n12 n13       n14 n15 label  F  M  F  M  \n",
       "0    0   1      ...  1.544484   0   0  0.631220   5     0  0  1  0  1  \n",
       "1    1   1      ...  1.712354   0   0  0.392746   3     1  0  1  0  1  \n",
       "2    0   1      ...  1.804260   0   0  0.222537   2     0  0  1  0  1  \n",
       "3    0   1      ...  1.537645   0   0  0.154409   4     0  1  0  1  0  \n",
       "4    1   1      ...  1.637831   0   1  0.737560   1     0  0  1  0  1  \n",
       "\n",
       "[5 rows x 36 columns]"
      ]
     },
     "execution_count": 67,
     "metadata": {},
     "output_type": "execute_result"
    }
   ],
   "source": [
    "df.head()"
   ]
  },
  {
   "cell_type": "code",
   "execution_count": 79,
   "id": "51427ba7",
   "metadata": {
    "scrolled": true
   },
   "outputs": [
    {
     "name": "stderr",
     "output_type": "stream",
     "text": [
      "<ipython-input-79-7749ff467766>:7: SettingWithCopyWarning: \n",
      "A value is trying to be set on a copy of a slice from a DataFrame.\n",
      "Try using .loc[row_indexer,col_indexer] = value instead\n",
      "\n",
      "See the caveats in the documentation: https://pandas.pydata.org/pandas-docs/stable/user_guide/indexing.html#returning-a-view-versus-a-copy\n",
      "  df[cols+'_label']=LabelEncoder().fit_transform(df[cols])\n"
     ]
    }
   ],
   "source": [
    "from sklearn.preprocessing import LabelEncoder\n",
    "selected_columns=['s16','s17','s18','s70','s71']\n",
    "for cols in selected_columns:\n",
    "#     print(df[cols])\n",
    "#     print(cols+'_label')\n",
    "#     gle = LabelEncoder()\n",
    "    df[cols+'_label']=LabelEncoder().fit_transform(df[cols])\n",
    "    df=df.drop([cols],axis=1)\n",
    "\n",
    "# from sklearn.preprocessing import LabelEncoder\n",
    "# gle = LabelEncoder()\n",
    "# s18_labels = gle.fit_transform(df['s18'])\n",
    "# df['s18Labels'] =s18_labels\n",
    "# df=df.drop(['s18'], axis = 1)\n"
   ]
  },
  {
   "cell_type": "code",
   "execution_count": 101,
   "id": "3a795bda",
   "metadata": {},
   "outputs": [
    {
     "data": {
      "text/plain": [
       "Index(['id', 's11', 's12', 's13', 's48', 's52', 's53', 's58', 's69', 'n1',\n",
       "       'n2', 'n3', 'n4', 'n5', 'n6', 'n7', 'n8', 'n9', 'n10', 'n11', 'n12',\n",
       "       'n13', 'n14', 'n15', 'F', 'M', 'F', 'M', 's16_label', 's17_label',\n",
       "       's18_label', 's70_label', 's71_label'],\n",
       "      dtype='object')"
      ]
     },
     "execution_count": 101,
     "metadata": {},
     "output_type": "execute_result"
    }
   ],
   "source": [
    "df.columns"
   ]
  },
  {
   "cell_type": "code",
   "execution_count": 102,
   "id": "97792900",
   "metadata": {
    "scrolled": true
   },
   "outputs": [
    {
     "data": {
      "text/plain": [
       "Index(['id', 'gender', 's11', 's12', 's13', 's16', 's17', 's18', 's48', 's52',\n",
       "       's53', 's54', 's55', 's58', 's69', 's70', 's71', 'n1', 'n2', 'n3', 'n4',\n",
       "       'n5', 'n6', 'n7', 'n8', 'n9', 'n10', 'n11', 'n12', 'n13', 'n14', 'n15'],\n",
       "      dtype='object')"
      ]
     },
     "execution_count": 102,
     "metadata": {},
     "output_type": "execute_result"
    }
   ],
   "source": [
    "X.columns"
   ]
  },
  {
   "cell_type": "code",
   "execution_count": 130,
   "id": "0562e0d8",
   "metadata": {},
   "outputs": [
    {
     "ename": "KeyError",
     "evalue": "\"[('id', 'gender')] not found in axis\"",
     "output_type": "error",
     "traceback": [
      "\u001b[1;31m---------------------------------------------------------------------------\u001b[0m",
      "\u001b[1;31mKeyError\u001b[0m                                  Traceback (most recent call last)",
      "\u001b[1;32m<ipython-input-130-17644c4b6a03>\u001b[0m in \u001b[0;36m<module>\u001b[1;34m\u001b[0m\n\u001b[1;32m----> 1\u001b[1;33m \u001b[0mX\u001b[0m\u001b[1;33m=\u001b[0m\u001b[0mX\u001b[0m\u001b[1;33m.\u001b[0m\u001b[0mdrop\u001b[0m\u001b[1;33m(\u001b[0m\u001b[1;33m[\u001b[0m\u001b[1;33m[\u001b[0m\u001b[1;34m'id'\u001b[0m\u001b[1;33m,\u001b[0m\u001b[1;34m'gender'\u001b[0m\u001b[1;33m]\u001b[0m\u001b[1;33m]\u001b[0m\u001b[1;33m,\u001b[0m\u001b[0maxis\u001b[0m\u001b[1;33m=\u001b[0m\u001b[1;36m0\u001b[0m\u001b[1;33m)\u001b[0m\u001b[1;33m\u001b[0m\u001b[1;33m\u001b[0m\u001b[0m\n\u001b[0m",
      "\u001b[1;32m~\\anaconda3\\lib\\site-packages\\pandas\\core\\frame.py\u001b[0m in \u001b[0;36mdrop\u001b[1;34m(self, labels, axis, index, columns, level, inplace, errors)\u001b[0m\n\u001b[0;32m   4306\u001b[0m                 \u001b[0mweight\u001b[0m  \u001b[1;36m1.0\u001b[0m     \u001b[1;36m0.8\u001b[0m\u001b[1;33m\u001b[0m\u001b[1;33m\u001b[0m\u001b[0m\n\u001b[0;32m   4307\u001b[0m         \"\"\"\n\u001b[1;32m-> 4308\u001b[1;33m         return super().drop(\n\u001b[0m\u001b[0;32m   4309\u001b[0m             \u001b[0mlabels\u001b[0m\u001b[1;33m=\u001b[0m\u001b[0mlabels\u001b[0m\u001b[1;33m,\u001b[0m\u001b[1;33m\u001b[0m\u001b[1;33m\u001b[0m\u001b[0m\n\u001b[0;32m   4310\u001b[0m             \u001b[0maxis\u001b[0m\u001b[1;33m=\u001b[0m\u001b[0maxis\u001b[0m\u001b[1;33m,\u001b[0m\u001b[1;33m\u001b[0m\u001b[1;33m\u001b[0m\u001b[0m\n",
      "\u001b[1;32m~\\anaconda3\\lib\\site-packages\\pandas\\core\\generic.py\u001b[0m in \u001b[0;36mdrop\u001b[1;34m(self, labels, axis, index, columns, level, inplace, errors)\u001b[0m\n\u001b[0;32m   4151\u001b[0m         \u001b[1;32mfor\u001b[0m \u001b[0maxis\u001b[0m\u001b[1;33m,\u001b[0m \u001b[0mlabels\u001b[0m \u001b[1;32min\u001b[0m \u001b[0maxes\u001b[0m\u001b[1;33m.\u001b[0m\u001b[0mitems\u001b[0m\u001b[1;33m(\u001b[0m\u001b[1;33m)\u001b[0m\u001b[1;33m:\u001b[0m\u001b[1;33m\u001b[0m\u001b[1;33m\u001b[0m\u001b[0m\n\u001b[0;32m   4152\u001b[0m             \u001b[1;32mif\u001b[0m \u001b[0mlabels\u001b[0m \u001b[1;32mis\u001b[0m \u001b[1;32mnot\u001b[0m \u001b[1;32mNone\u001b[0m\u001b[1;33m:\u001b[0m\u001b[1;33m\u001b[0m\u001b[1;33m\u001b[0m\u001b[0m\n\u001b[1;32m-> 4153\u001b[1;33m                 \u001b[0mobj\u001b[0m \u001b[1;33m=\u001b[0m \u001b[0mobj\u001b[0m\u001b[1;33m.\u001b[0m\u001b[0m_drop_axis\u001b[0m\u001b[1;33m(\u001b[0m\u001b[0mlabels\u001b[0m\u001b[1;33m,\u001b[0m \u001b[0maxis\u001b[0m\u001b[1;33m,\u001b[0m \u001b[0mlevel\u001b[0m\u001b[1;33m=\u001b[0m\u001b[0mlevel\u001b[0m\u001b[1;33m,\u001b[0m \u001b[0merrors\u001b[0m\u001b[1;33m=\u001b[0m\u001b[0merrors\u001b[0m\u001b[1;33m)\u001b[0m\u001b[1;33m\u001b[0m\u001b[1;33m\u001b[0m\u001b[0m\n\u001b[0m\u001b[0;32m   4154\u001b[0m \u001b[1;33m\u001b[0m\u001b[0m\n\u001b[0;32m   4155\u001b[0m         \u001b[1;32mif\u001b[0m \u001b[0minplace\u001b[0m\u001b[1;33m:\u001b[0m\u001b[1;33m\u001b[0m\u001b[1;33m\u001b[0m\u001b[0m\n",
      "\u001b[1;32m~\\anaconda3\\lib\\site-packages\\pandas\\core\\generic.py\u001b[0m in \u001b[0;36m_drop_axis\u001b[1;34m(self, labels, axis, level, errors)\u001b[0m\n\u001b[0;32m   4186\u001b[0m                 \u001b[0mnew_axis\u001b[0m \u001b[1;33m=\u001b[0m \u001b[0maxis\u001b[0m\u001b[1;33m.\u001b[0m\u001b[0mdrop\u001b[0m\u001b[1;33m(\u001b[0m\u001b[0mlabels\u001b[0m\u001b[1;33m,\u001b[0m \u001b[0mlevel\u001b[0m\u001b[1;33m=\u001b[0m\u001b[0mlevel\u001b[0m\u001b[1;33m,\u001b[0m \u001b[0merrors\u001b[0m\u001b[1;33m=\u001b[0m\u001b[0merrors\u001b[0m\u001b[1;33m)\u001b[0m\u001b[1;33m\u001b[0m\u001b[1;33m\u001b[0m\u001b[0m\n\u001b[0;32m   4187\u001b[0m             \u001b[1;32melse\u001b[0m\u001b[1;33m:\u001b[0m\u001b[1;33m\u001b[0m\u001b[1;33m\u001b[0m\u001b[0m\n\u001b[1;32m-> 4188\u001b[1;33m                 \u001b[0mnew_axis\u001b[0m \u001b[1;33m=\u001b[0m \u001b[0maxis\u001b[0m\u001b[1;33m.\u001b[0m\u001b[0mdrop\u001b[0m\u001b[1;33m(\u001b[0m\u001b[0mlabels\u001b[0m\u001b[1;33m,\u001b[0m \u001b[0merrors\u001b[0m\u001b[1;33m=\u001b[0m\u001b[0merrors\u001b[0m\u001b[1;33m)\u001b[0m\u001b[1;33m\u001b[0m\u001b[1;33m\u001b[0m\u001b[0m\n\u001b[0m\u001b[0;32m   4189\u001b[0m             \u001b[0mresult\u001b[0m \u001b[1;33m=\u001b[0m \u001b[0mself\u001b[0m\u001b[1;33m.\u001b[0m\u001b[0mreindex\u001b[0m\u001b[1;33m(\u001b[0m\u001b[1;33m**\u001b[0m\u001b[1;33m{\u001b[0m\u001b[0maxis_name\u001b[0m\u001b[1;33m:\u001b[0m \u001b[0mnew_axis\u001b[0m\u001b[1;33m}\u001b[0m\u001b[1;33m)\u001b[0m\u001b[1;33m\u001b[0m\u001b[1;33m\u001b[0m\u001b[0m\n\u001b[0;32m   4190\u001b[0m \u001b[1;33m\u001b[0m\u001b[0m\n",
      "\u001b[1;32m~\\anaconda3\\lib\\site-packages\\pandas\\core\\indexes\\base.py\u001b[0m in \u001b[0;36mdrop\u001b[1;34m(self, labels, errors)\u001b[0m\n\u001b[0;32m   5589\u001b[0m         \u001b[1;32mif\u001b[0m \u001b[0mmask\u001b[0m\u001b[1;33m.\u001b[0m\u001b[0many\u001b[0m\u001b[1;33m(\u001b[0m\u001b[1;33m)\u001b[0m\u001b[1;33m:\u001b[0m\u001b[1;33m\u001b[0m\u001b[1;33m\u001b[0m\u001b[0m\n\u001b[0;32m   5590\u001b[0m             \u001b[1;32mif\u001b[0m \u001b[0merrors\u001b[0m \u001b[1;33m!=\u001b[0m \u001b[1;34m\"ignore\"\u001b[0m\u001b[1;33m:\u001b[0m\u001b[1;33m\u001b[0m\u001b[1;33m\u001b[0m\u001b[0m\n\u001b[1;32m-> 5591\u001b[1;33m                 \u001b[1;32mraise\u001b[0m \u001b[0mKeyError\u001b[0m\u001b[1;33m(\u001b[0m\u001b[1;34mf\"{labels[mask]} not found in axis\"\u001b[0m\u001b[1;33m)\u001b[0m\u001b[1;33m\u001b[0m\u001b[1;33m\u001b[0m\u001b[0m\n\u001b[0m\u001b[0;32m   5592\u001b[0m             \u001b[0mindexer\u001b[0m \u001b[1;33m=\u001b[0m \u001b[0mindexer\u001b[0m\u001b[1;33m[\u001b[0m\u001b[1;33m~\u001b[0m\u001b[0mmask\u001b[0m\u001b[1;33m]\u001b[0m\u001b[1;33m\u001b[0m\u001b[1;33m\u001b[0m\u001b[0m\n\u001b[0;32m   5593\u001b[0m         \u001b[1;32mreturn\u001b[0m \u001b[0mself\u001b[0m\u001b[1;33m.\u001b[0m\u001b[0mdelete\u001b[0m\u001b[1;33m(\u001b[0m\u001b[0mindexer\u001b[0m\u001b[1;33m)\u001b[0m\u001b[1;33m\u001b[0m\u001b[1;33m\u001b[0m\u001b[0m\n",
      "\u001b[1;31mKeyError\u001b[0m: \"[('id', 'gender')] not found in axis\""
     ]
    }
   ],
   "source": [
    "X=X.drop([['id','gender']],axis=0)"
   ]
  },
  {
   "cell_type": "code",
   "execution_count": 125,
   "id": "a92101c9",
   "metadata": {},
   "outputs": [
    {
     "data": {
      "text/html": [
       "<div>\n",
       "<style scoped>\n",
       "    .dataframe tbody tr th:only-of-type {\n",
       "        vertical-align: middle;\n",
       "    }\n",
       "\n",
       "    .dataframe tbody tr th {\n",
       "        vertical-align: top;\n",
       "    }\n",
       "\n",
       "    .dataframe thead th {\n",
       "        text-align: right;\n",
       "    }\n",
       "</style>\n",
       "<table border=\"1\" class=\"dataframe\">\n",
       "  <thead>\n",
       "    <tr style=\"text-align: right;\">\n",
       "      <th></th>\n",
       "      <th>gender</th>\n",
       "      <th>s11</th>\n",
       "      <th>s12</th>\n",
       "      <th>s13</th>\n",
       "      <th>s16</th>\n",
       "      <th>s17</th>\n",
       "      <th>s18</th>\n",
       "      <th>s48</th>\n",
       "      <th>s52</th>\n",
       "      <th>s53</th>\n",
       "      <th>...</th>\n",
       "      <th>n6</th>\n",
       "      <th>n7</th>\n",
       "      <th>n8</th>\n",
       "      <th>n9</th>\n",
       "      <th>n10</th>\n",
       "      <th>n11</th>\n",
       "      <th>n12</th>\n",
       "      <th>n13</th>\n",
       "      <th>n14</th>\n",
       "      <th>n15</th>\n",
       "    </tr>\n",
       "  </thead>\n",
       "  <tbody>\n",
       "    <tr>\n",
       "      <th>0</th>\n",
       "      <td>M</td>\n",
       "      <td>Y</td>\n",
       "      <td>N</td>\n",
       "      <td>1</td>\n",
       "      <td>D</td>\n",
       "      <td>D</td>\n",
       "      <td>B</td>\n",
       "      <td>0</td>\n",
       "      <td>1</td>\n",
       "      <td></td>\n",
       "      <td>...</td>\n",
       "      <td>0.017176</td>\n",
       "      <td>-9.126056</td>\n",
       "      <td>1.732291</td>\n",
       "      <td>3.698504</td>\n",
       "      <td>4.804517</td>\n",
       "      <td>1.544484</td>\n",
       "      <td>0</td>\n",
       "      <td>0</td>\n",
       "      <td>0.631220</td>\n",
       "      <td>5</td>\n",
       "    </tr>\n",
       "    <tr>\n",
       "      <th>1</th>\n",
       "      <td>M</td>\n",
       "      <td>Y</td>\n",
       "      <td>Y</td>\n",
       "      <td>1</td>\n",
       "      <td>D</td>\n",
       "      <td>D</td>\n",
       "      <td>B</td>\n",
       "      <td>1</td>\n",
       "      <td>1</td>\n",
       "      <td></td>\n",
       "      <td>...</td>\n",
       "      <td>0.013857</td>\n",
       "      <td>-9.098287</td>\n",
       "      <td>1.505885</td>\n",
       "      <td>6.791357</td>\n",
       "      <td>6.110416</td>\n",
       "      <td>1.712354</td>\n",
       "      <td>0</td>\n",
       "      <td>0</td>\n",
       "      <td>0.392746</td>\n",
       "      <td>3</td>\n",
       "    </tr>\n",
       "    <tr>\n",
       "      <th>2</th>\n",
       "      <td>M</td>\n",
       "      <td>Y</td>\n",
       "      <td>Y</td>\n",
       "      <td>1</td>\n",
       "      <td>D</td>\n",
       "      <td>D</td>\n",
       "      <td>B</td>\n",
       "      <td>0</td>\n",
       "      <td>1</td>\n",
       "      <td></td>\n",
       "      <td>...</td>\n",
       "      <td>0.013943</td>\n",
       "      <td>-9.234894</td>\n",
       "      <td>1.503828</td>\n",
       "      <td>4.109685</td>\n",
       "      <td>3.953226</td>\n",
       "      <td>1.804260</td>\n",
       "      <td>0</td>\n",
       "      <td>0</td>\n",
       "      <td>0.222537</td>\n",
       "      <td>2</td>\n",
       "    </tr>\n",
       "    <tr>\n",
       "      <th>3</th>\n",
       "      <td>F</td>\n",
       "      <td>Y</td>\n",
       "      <td>Y</td>\n",
       "      <td>1</td>\n",
       "      <td>D</td>\n",
       "      <td>D</td>\n",
       "      <td>B</td>\n",
       "      <td>0</td>\n",
       "      <td>1</td>\n",
       "      <td></td>\n",
       "      <td>...</td>\n",
       "      <td>0.010387</td>\n",
       "      <td>-9.378025</td>\n",
       "      <td>1.485863</td>\n",
       "      <td>7.265876</td>\n",
       "      <td>4.559419</td>\n",
       "      <td>1.537645</td>\n",
       "      <td>0</td>\n",
       "      <td>0</td>\n",
       "      <td>0.154409</td>\n",
       "      <td>4</td>\n",
       "    </tr>\n",
       "    <tr>\n",
       "      <th>4</th>\n",
       "      <td>M</td>\n",
       "      <td>N</td>\n",
       "      <td>Y</td>\n",
       "      <td>1</td>\n",
       "      <td>B</td>\n",
       "      <td>D</td>\n",
       "      <td>D</td>\n",
       "      <td>1</td>\n",
       "      <td>1</td>\n",
       "      <td></td>\n",
       "      <td>...</td>\n",
       "      <td>0.016289</td>\n",
       "      <td>-9.261962</td>\n",
       "      <td>1.619210</td>\n",
       "      <td>3.737647</td>\n",
       "      <td>4.052003</td>\n",
       "      <td>1.637831</td>\n",
       "      <td>0</td>\n",
       "      <td>1</td>\n",
       "      <td>0.737560</td>\n",
       "      <td>1</td>\n",
       "    </tr>\n",
       "    <tr>\n",
       "      <th>...</th>\n",
       "      <td>...</td>\n",
       "      <td>...</td>\n",
       "      <td>...</td>\n",
       "      <td>...</td>\n",
       "      <td>...</td>\n",
       "      <td>...</td>\n",
       "      <td>...</td>\n",
       "      <td>...</td>\n",
       "      <td>...</td>\n",
       "      <td>...</td>\n",
       "      <td>...</td>\n",
       "      <td>...</td>\n",
       "      <td>...</td>\n",
       "      <td>...</td>\n",
       "      <td>...</td>\n",
       "      <td>...</td>\n",
       "      <td>...</td>\n",
       "      <td>...</td>\n",
       "      <td>...</td>\n",
       "      <td>...</td>\n",
       "      <td>...</td>\n",
       "    </tr>\n",
       "    <tr>\n",
       "      <th>28317</th>\n",
       "      <td>M</td>\n",
       "      <td>Y</td>\n",
       "      <td>Y</td>\n",
       "      <td>1</td>\n",
       "      <td>D</td>\n",
       "      <td>D</td>\n",
       "      <td>B</td>\n",
       "      <td>0</td>\n",
       "      <td>1</td>\n",
       "      <td></td>\n",
       "      <td>...</td>\n",
       "      <td>0.007216</td>\n",
       "      <td>-8.651173</td>\n",
       "      <td>1.877460</td>\n",
       "      <td>3.637551</td>\n",
       "      <td>11.404942</td>\n",
       "      <td>1.862441</td>\n",
       "      <td>0</td>\n",
       "      <td>0</td>\n",
       "      <td>0.019793</td>\n",
       "      <td>5</td>\n",
       "    </tr>\n",
       "    <tr>\n",
       "      <th>28318</th>\n",
       "      <td>M</td>\n",
       "      <td>Y</td>\n",
       "      <td>Y</td>\n",
       "      <td>1</td>\n",
       "      <td>D</td>\n",
       "      <td>D</td>\n",
       "      <td>B</td>\n",
       "      <td>0</td>\n",
       "      <td>1</td>\n",
       "      <td></td>\n",
       "      <td>...</td>\n",
       "      <td>0.013369</td>\n",
       "      <td>-8.833046</td>\n",
       "      <td>1.559138</td>\n",
       "      <td>4.247487</td>\n",
       "      <td>5.530054</td>\n",
       "      <td>1.671527</td>\n",
       "      <td>0</td>\n",
       "      <td>0</td>\n",
       "      <td>0.371074</td>\n",
       "      <td>2</td>\n",
       "    </tr>\n",
       "    <tr>\n",
       "      <th>28319</th>\n",
       "      <td>F</td>\n",
       "      <td>Y</td>\n",
       "      <td>Y</td>\n",
       "      <td>1</td>\n",
       "      <td>D</td>\n",
       "      <td>D</td>\n",
       "      <td>B</td>\n",
       "      <td>0</td>\n",
       "      <td>1</td>\n",
       "      <td></td>\n",
       "      <td>...</td>\n",
       "      <td>0.017782</td>\n",
       "      <td>-9.233722</td>\n",
       "      <td>1.455911</td>\n",
       "      <td>2.900249</td>\n",
       "      <td>6.058681</td>\n",
       "      <td>1.627479</td>\n",
       "      <td>0</td>\n",
       "      <td>1</td>\n",
       "      <td>0.826587</td>\n",
       "      <td>1</td>\n",
       "    </tr>\n",
       "    <tr>\n",
       "      <th>28320</th>\n",
       "      <td>M</td>\n",
       "      <td>Y</td>\n",
       "      <td>Y</td>\n",
       "      <td>1</td>\n",
       "      <td>B</td>\n",
       "      <td>C</td>\n",
       "      <td>B</td>\n",
       "      <td>1</td>\n",
       "      <td>1</td>\n",
       "      <td></td>\n",
       "      <td>...</td>\n",
       "      <td>0.007324</td>\n",
       "      <td>-8.748941</td>\n",
       "      <td>2.074394</td>\n",
       "      <td>10.673259</td>\n",
       "      <td>11.387646</td>\n",
       "      <td>1.560391</td>\n",
       "      <td>0</td>\n",
       "      <td>0</td>\n",
       "      <td>0.103523</td>\n",
       "      <td>5</td>\n",
       "    </tr>\n",
       "    <tr>\n",
       "      <th>28321</th>\n",
       "      <td>M</td>\n",
       "      <td>Y</td>\n",
       "      <td>Y</td>\n",
       "      <td>1</td>\n",
       "      <td>D</td>\n",
       "      <td>D</td>\n",
       "      <td>B</td>\n",
       "      <td>1</td>\n",
       "      <td>1</td>\n",
       "      <td></td>\n",
       "      <td>...</td>\n",
       "      <td>0.015928</td>\n",
       "      <td>-9.280950</td>\n",
       "      <td>1.490478</td>\n",
       "      <td>3.569598</td>\n",
       "      <td>4.584967</td>\n",
       "      <td>1.777995</td>\n",
       "      <td>0</td>\n",
       "      <td>1</td>\n",
       "      <td>0.435079</td>\n",
       "      <td>5</td>\n",
       "    </tr>\n",
       "  </tbody>\n",
       "</table>\n",
       "<p>28322 rows × 31 columns</p>\n",
       "</div>"
      ],
      "text/plain": [
       "      gender s11 s12  s13 s16 s17 s18  s48 s52 s53  ...        n6        n7  \\\n",
       "0          M   Y   N    1   D   D   B    0   1      ...  0.017176 -9.126056   \n",
       "1          M   Y   Y    1   D   D   B    1   1      ...  0.013857 -9.098287   \n",
       "2          M   Y   Y    1   D   D   B    0   1      ...  0.013943 -9.234894   \n",
       "3          F   Y   Y    1   D   D   B    0   1      ...  0.010387 -9.378025   \n",
       "4          M   N   Y    1   B   D   D    1   1      ...  0.016289 -9.261962   \n",
       "...      ...  ..  ..  ...  ..  ..  ..  ...  ..  ..  ...       ...       ...   \n",
       "28317      M   Y   Y    1   D   D   B    0   1      ...  0.007216 -8.651173   \n",
       "28318      M   Y   Y    1   D   D   B    0   1      ...  0.013369 -8.833046   \n",
       "28319      F   Y   Y    1   D   D   B    0   1      ...  0.017782 -9.233722   \n",
       "28320      M   Y   Y    1   B   C   B    1   1      ...  0.007324 -8.748941   \n",
       "28321      M   Y   Y    1   D   D   B    1   1      ...  0.015928 -9.280950   \n",
       "\n",
       "             n8         n9        n10       n11  n12  n13       n14  n15  \n",
       "0      1.732291   3.698504   4.804517  1.544484    0    0  0.631220    5  \n",
       "1      1.505885   6.791357   6.110416  1.712354    0    0  0.392746    3  \n",
       "2      1.503828   4.109685   3.953226  1.804260    0    0  0.222537    2  \n",
       "3      1.485863   7.265876   4.559419  1.537645    0    0  0.154409    4  \n",
       "4      1.619210   3.737647   4.052003  1.637831    0    1  0.737560    1  \n",
       "...         ...        ...        ...       ...  ...  ...       ...  ...  \n",
       "28317  1.877460   3.637551  11.404942  1.862441    0    0  0.019793    5  \n",
       "28318  1.559138   4.247487   5.530054  1.671527    0    0  0.371074    2  \n",
       "28319  1.455911   2.900249   6.058681  1.627479    0    1  0.826587    1  \n",
       "28320  2.074394  10.673259  11.387646  1.560391    0    0  0.103523    5  \n",
       "28321  1.490478   3.569598   4.584967  1.777995    0    1  0.435079    5  \n",
       "\n",
       "[28322 rows x 31 columns]"
      ]
     },
     "execution_count": 125,
     "metadata": {},
     "output_type": "execute_result"
    }
   ],
   "source": [
    "X"
   ]
  },
  {
   "cell_type": "code",
   "execution_count": 103,
   "id": "2801a1bb",
   "metadata": {},
   "outputs": [
    {
     "data": {
      "text/html": [
       "<div>\n",
       "<style scoped>\n",
       "    .dataframe tbody tr th:only-of-type {\n",
       "        vertical-align: middle;\n",
       "    }\n",
       "\n",
       "    .dataframe tbody tr th {\n",
       "        vertical-align: top;\n",
       "    }\n",
       "\n",
       "    .dataframe thead th {\n",
       "        text-align: right;\n",
       "    }\n",
       "</style>\n",
       "<table border=\"1\" class=\"dataframe\">\n",
       "  <thead>\n",
       "    <tr style=\"text-align: right;\">\n",
       "      <th></th>\n",
       "      <th>label</th>\n",
       "    </tr>\n",
       "  </thead>\n",
       "  <tbody>\n",
       "    <tr>\n",
       "      <th>0</th>\n",
       "      <td>0</td>\n",
       "    </tr>\n",
       "    <tr>\n",
       "      <th>1</th>\n",
       "      <td>1</td>\n",
       "    </tr>\n",
       "    <tr>\n",
       "      <th>2</th>\n",
       "      <td>0</td>\n",
       "    </tr>\n",
       "    <tr>\n",
       "      <th>3</th>\n",
       "      <td>0</td>\n",
       "    </tr>\n",
       "    <tr>\n",
       "      <th>4</th>\n",
       "      <td>0</td>\n",
       "    </tr>\n",
       "    <tr>\n",
       "      <th>...</th>\n",
       "      <td>...</td>\n",
       "    </tr>\n",
       "    <tr>\n",
       "      <th>28317</th>\n",
       "      <td>0</td>\n",
       "    </tr>\n",
       "    <tr>\n",
       "      <th>28318</th>\n",
       "      <td>0</td>\n",
       "    </tr>\n",
       "    <tr>\n",
       "      <th>28319</th>\n",
       "      <td>0</td>\n",
       "    </tr>\n",
       "    <tr>\n",
       "      <th>28320</th>\n",
       "      <td>0</td>\n",
       "    </tr>\n",
       "    <tr>\n",
       "      <th>28321</th>\n",
       "      <td>0</td>\n",
       "    </tr>\n",
       "  </tbody>\n",
       "</table>\n",
       "<p>28322 rows × 1 columns</p>\n",
       "</div>"
      ],
      "text/plain": [
       "       label\n",
       "0          0\n",
       "1          1\n",
       "2          0\n",
       "3          0\n",
       "4          0\n",
       "...      ...\n",
       "28317      0\n",
       "28318      0\n",
       "28319      0\n",
       "28320      0\n",
       "28321      0\n",
       "\n",
       "[28322 rows x 1 columns]"
      ]
     },
     "execution_count": 103,
     "metadata": {},
     "output_type": "execute_result"
    }
   ],
   "source": [
    "y"
   ]
  },
  {
   "cell_type": "code",
   "execution_count": 121,
   "id": "fb9d074f",
   "metadata": {},
   "outputs": [],
   "source": [
    "from sklearn.model_selection import train_test_split\n",
    "X_train,X_test,y_train,y_test=train_test_split(X,y,test_size=0.2,random_state=0)"
   ]
  },
  {
   "cell_type": "code",
   "execution_count": 122,
   "id": "461e01e8",
   "metadata": {},
   "outputs": [
    {
     "data": {
      "text/plain": [
       "((22657, 31), (5665, 31))"
      ]
     },
     "execution_count": 122,
     "metadata": {},
     "output_type": "execute_result"
    }
   ],
   "source": [
    "X_train.shape,X_test.shape"
   ]
  },
  {
   "cell_type": "code",
   "execution_count": 123,
   "id": "b48c322e",
   "metadata": {
    "scrolled": true
   },
   "outputs": [
    {
     "data": {
      "text/plain": [
       "((22657, 1), (5665, 1))"
      ]
     },
     "execution_count": 123,
     "metadata": {},
     "output_type": "execute_result"
    }
   ],
   "source": [
    "y_train.shape,y_test.shape"
   ]
  },
  {
   "cell_type": "code",
   "execution_count": 114,
   "id": "b2619497",
   "metadata": {
    "scrolled": true
   },
   "outputs": [
    {
     "name": "stdout",
     "output_type": "stream",
     "text": [
      "Collecting xgboost\n",
      "  Downloading xgboost-1.6.1-py3-none-win_amd64.whl (125.4 MB)\n",
      "Requirement already satisfied: numpy in c:\\users\\user\\anaconda3\\lib\\site-packages (from xgboost) (1.20.1)\n",
      "Requirement already satisfied: scipy in c:\\users\\user\\anaconda3\\lib\\site-packages (from xgboost) (1.6.2)\n",
      "Installing collected packages: xgboost\n",
      "Successfully installed xgboost-1.6.1\n"
     ]
    }
   ],
   "source": [
    "!pip install xgboost"
   ]
  },
  {
   "cell_type": "code",
   "execution_count": 124,
   "id": "7dfeff20",
   "metadata": {},
   "outputs": [
    {
     "ename": "ValueError",
     "evalue": "could not convert string to float: 'F'",
     "output_type": "error",
     "traceback": [
      "\u001b[1;31m---------------------------------------------------------------------------\u001b[0m",
      "\u001b[1;31mValueError\u001b[0m                                Traceback (most recent call last)",
      "\u001b[1;32m<ipython-input-124-4310defd452b>\u001b[0m in \u001b[0;36m<module>\u001b[1;34m\u001b[0m\n\u001b[0;32m      3\u001b[0m \u001b[1;32mfrom\u001b[0m \u001b[0msklearn\u001b[0m\u001b[1;33m.\u001b[0m\u001b[0mmetrics\u001b[0m \u001b[1;32mimport\u001b[0m \u001b[0maccuracy_score\u001b[0m\u001b[1;33m,\u001b[0m\u001b[0mconfusion_matrix\u001b[0m\u001b[1;33m,\u001b[0m\u001b[0mclassification_report\u001b[0m\u001b[1;33m\u001b[0m\u001b[1;33m\u001b[0m\u001b[0m\n\u001b[0;32m      4\u001b[0m \u001b[0mclassifier\u001b[0m\u001b[1;33m=\u001b[0m\u001b[0mRandomForestClassifier\u001b[0m\u001b[1;33m(\u001b[0m\u001b[1;33m)\u001b[0m\u001b[1;33m\u001b[0m\u001b[1;33m\u001b[0m\u001b[0m\n\u001b[1;32m----> 5\u001b[1;33m \u001b[0mclassifier\u001b[0m\u001b[1;33m.\u001b[0m\u001b[0mfit\u001b[0m\u001b[1;33m(\u001b[0m\u001b[0mX_train\u001b[0m\u001b[1;33m,\u001b[0m\u001b[0my_train\u001b[0m\u001b[1;33m)\u001b[0m\u001b[1;33m\u001b[0m\u001b[1;33m\u001b[0m\u001b[0m\n\u001b[0m\u001b[0;32m      6\u001b[0m \u001b[0my_pred\u001b[0m\u001b[1;33m=\u001b[0m\u001b[0mclassifier\u001b[0m\u001b[1;33m.\u001b[0m\u001b[0mpredict\u001b[0m\u001b[1;33m(\u001b[0m\u001b[0mX_test\u001b[0m\u001b[1;33m)\u001b[0m\u001b[1;33m\u001b[0m\u001b[1;33m\u001b[0m\u001b[0m\n\u001b[0;32m      7\u001b[0m \u001b[0mprint\u001b[0m\u001b[1;33m(\u001b[0m\u001b[0mconfusion_matrix\u001b[0m\u001b[1;33m(\u001b[0m\u001b[0my_test\u001b[0m\u001b[1;33m,\u001b[0m\u001b[0my_pred\u001b[0m\u001b[1;33m)\u001b[0m\u001b[1;33m)\u001b[0m\u001b[1;33m\u001b[0m\u001b[1;33m\u001b[0m\u001b[0m\n",
      "\u001b[1;32m~\\anaconda3\\lib\\site-packages\\sklearn\\ensemble\\_forest.py\u001b[0m in \u001b[0;36mfit\u001b[1;34m(self, X, y, sample_weight)\u001b[0m\n\u001b[0;32m    329\u001b[0m         \u001b[1;32mif\u001b[0m \u001b[0missparse\u001b[0m\u001b[1;33m(\u001b[0m\u001b[0my\u001b[0m\u001b[1;33m)\u001b[0m\u001b[1;33m:\u001b[0m\u001b[1;33m\u001b[0m\u001b[1;33m\u001b[0m\u001b[0m\n\u001b[0;32m    330\u001b[0m             \u001b[1;32mraise\u001b[0m \u001b[0mValueError\u001b[0m\u001b[1;33m(\u001b[0m\u001b[1;34m\"sparse multilabel-indicator for y is not supported.\"\u001b[0m\u001b[1;33m)\u001b[0m\u001b[1;33m\u001b[0m\u001b[1;33m\u001b[0m\u001b[0m\n\u001b[1;32m--> 331\u001b[1;33m         X, y = self._validate_data(\n\u001b[0m\u001b[0;32m    332\u001b[0m             \u001b[0mX\u001b[0m\u001b[1;33m,\u001b[0m \u001b[0my\u001b[0m\u001b[1;33m,\u001b[0m \u001b[0mmulti_output\u001b[0m\u001b[1;33m=\u001b[0m\u001b[1;32mTrue\u001b[0m\u001b[1;33m,\u001b[0m \u001b[0maccept_sparse\u001b[0m\u001b[1;33m=\u001b[0m\u001b[1;34m\"csc\"\u001b[0m\u001b[1;33m,\u001b[0m \u001b[0mdtype\u001b[0m\u001b[1;33m=\u001b[0m\u001b[0mDTYPE\u001b[0m\u001b[1;33m\u001b[0m\u001b[1;33m\u001b[0m\u001b[0m\n\u001b[0;32m    333\u001b[0m         )\n",
      "\u001b[1;32m~\\anaconda3\\lib\\site-packages\\sklearn\\base.py\u001b[0m in \u001b[0;36m_validate_data\u001b[1;34m(self, X, y, reset, validate_separately, **check_params)\u001b[0m\n\u001b[0;32m    594\u001b[0m                 \u001b[0my\u001b[0m \u001b[1;33m=\u001b[0m \u001b[0mcheck_array\u001b[0m\u001b[1;33m(\u001b[0m\u001b[0my\u001b[0m\u001b[1;33m,\u001b[0m \u001b[0minput_name\u001b[0m\u001b[1;33m=\u001b[0m\u001b[1;34m\"y\"\u001b[0m\u001b[1;33m,\u001b[0m \u001b[1;33m**\u001b[0m\u001b[0mcheck_y_params\u001b[0m\u001b[1;33m)\u001b[0m\u001b[1;33m\u001b[0m\u001b[1;33m\u001b[0m\u001b[0m\n\u001b[0;32m    595\u001b[0m             \u001b[1;32melse\u001b[0m\u001b[1;33m:\u001b[0m\u001b[1;33m\u001b[0m\u001b[1;33m\u001b[0m\u001b[0m\n\u001b[1;32m--> 596\u001b[1;33m                 \u001b[0mX\u001b[0m\u001b[1;33m,\u001b[0m \u001b[0my\u001b[0m \u001b[1;33m=\u001b[0m \u001b[0mcheck_X_y\u001b[0m\u001b[1;33m(\u001b[0m\u001b[0mX\u001b[0m\u001b[1;33m,\u001b[0m \u001b[0my\u001b[0m\u001b[1;33m,\u001b[0m \u001b[1;33m**\u001b[0m\u001b[0mcheck_params\u001b[0m\u001b[1;33m)\u001b[0m\u001b[1;33m\u001b[0m\u001b[1;33m\u001b[0m\u001b[0m\n\u001b[0m\u001b[0;32m    597\u001b[0m             \u001b[0mout\u001b[0m \u001b[1;33m=\u001b[0m \u001b[0mX\u001b[0m\u001b[1;33m,\u001b[0m \u001b[0my\u001b[0m\u001b[1;33m\u001b[0m\u001b[1;33m\u001b[0m\u001b[0m\n\u001b[0;32m    598\u001b[0m \u001b[1;33m\u001b[0m\u001b[0m\n",
      "\u001b[1;32m~\\anaconda3\\lib\\site-packages\\sklearn\\utils\\validation.py\u001b[0m in \u001b[0;36mcheck_X_y\u001b[1;34m(X, y, accept_sparse, accept_large_sparse, dtype, order, copy, force_all_finite, ensure_2d, allow_nd, multi_output, ensure_min_samples, ensure_min_features, y_numeric, estimator)\u001b[0m\n\u001b[0;32m   1072\u001b[0m         )\n\u001b[0;32m   1073\u001b[0m \u001b[1;33m\u001b[0m\u001b[0m\n\u001b[1;32m-> 1074\u001b[1;33m     X = check_array(\n\u001b[0m\u001b[0;32m   1075\u001b[0m         \u001b[0mX\u001b[0m\u001b[1;33m,\u001b[0m\u001b[1;33m\u001b[0m\u001b[1;33m\u001b[0m\u001b[0m\n\u001b[0;32m   1076\u001b[0m         \u001b[0maccept_sparse\u001b[0m\u001b[1;33m=\u001b[0m\u001b[0maccept_sparse\u001b[0m\u001b[1;33m,\u001b[0m\u001b[1;33m\u001b[0m\u001b[1;33m\u001b[0m\u001b[0m\n",
      "\u001b[1;32m~\\anaconda3\\lib\\site-packages\\sklearn\\utils\\validation.py\u001b[0m in \u001b[0;36mcheck_array\u001b[1;34m(array, accept_sparse, accept_large_sparse, dtype, order, copy, force_all_finite, ensure_2d, allow_nd, ensure_min_samples, ensure_min_features, estimator, input_name)\u001b[0m\n\u001b[0;32m    854\u001b[0m                     \u001b[0marray\u001b[0m \u001b[1;33m=\u001b[0m \u001b[0marray\u001b[0m\u001b[1;33m.\u001b[0m\u001b[0mastype\u001b[0m\u001b[1;33m(\u001b[0m\u001b[0mdtype\u001b[0m\u001b[1;33m,\u001b[0m \u001b[0mcasting\u001b[0m\u001b[1;33m=\u001b[0m\u001b[1;34m\"unsafe\"\u001b[0m\u001b[1;33m,\u001b[0m \u001b[0mcopy\u001b[0m\u001b[1;33m=\u001b[0m\u001b[1;32mFalse\u001b[0m\u001b[1;33m)\u001b[0m\u001b[1;33m\u001b[0m\u001b[1;33m\u001b[0m\u001b[0m\n\u001b[0;32m    855\u001b[0m                 \u001b[1;32melse\u001b[0m\u001b[1;33m:\u001b[0m\u001b[1;33m\u001b[0m\u001b[1;33m\u001b[0m\u001b[0m\n\u001b[1;32m--> 856\u001b[1;33m                     \u001b[0marray\u001b[0m \u001b[1;33m=\u001b[0m \u001b[0mnp\u001b[0m\u001b[1;33m.\u001b[0m\u001b[0masarray\u001b[0m\u001b[1;33m(\u001b[0m\u001b[0marray\u001b[0m\u001b[1;33m,\u001b[0m \u001b[0morder\u001b[0m\u001b[1;33m=\u001b[0m\u001b[0morder\u001b[0m\u001b[1;33m,\u001b[0m \u001b[0mdtype\u001b[0m\u001b[1;33m=\u001b[0m\u001b[0mdtype\u001b[0m\u001b[1;33m)\u001b[0m\u001b[1;33m\u001b[0m\u001b[1;33m\u001b[0m\u001b[0m\n\u001b[0m\u001b[0;32m    857\u001b[0m             \u001b[1;32mexcept\u001b[0m \u001b[0mComplexWarning\u001b[0m \u001b[1;32mas\u001b[0m \u001b[0mcomplex_warning\u001b[0m\u001b[1;33m:\u001b[0m\u001b[1;33m\u001b[0m\u001b[1;33m\u001b[0m\u001b[0m\n\u001b[0;32m    858\u001b[0m                 raise ValueError(\n",
      "\u001b[1;32m~\\anaconda3\\lib\\site-packages\\numpy\\core\\_asarray.py\u001b[0m in \u001b[0;36masarray\u001b[1;34m(a, dtype, order, like)\u001b[0m\n\u001b[0;32m    100\u001b[0m         \u001b[1;32mreturn\u001b[0m \u001b[0m_asarray_with_like\u001b[0m\u001b[1;33m(\u001b[0m\u001b[0ma\u001b[0m\u001b[1;33m,\u001b[0m \u001b[0mdtype\u001b[0m\u001b[1;33m=\u001b[0m\u001b[0mdtype\u001b[0m\u001b[1;33m,\u001b[0m \u001b[0morder\u001b[0m\u001b[1;33m=\u001b[0m\u001b[0morder\u001b[0m\u001b[1;33m,\u001b[0m \u001b[0mlike\u001b[0m\u001b[1;33m=\u001b[0m\u001b[0mlike\u001b[0m\u001b[1;33m)\u001b[0m\u001b[1;33m\u001b[0m\u001b[1;33m\u001b[0m\u001b[0m\n\u001b[0;32m    101\u001b[0m \u001b[1;33m\u001b[0m\u001b[0m\n\u001b[1;32m--> 102\u001b[1;33m     \u001b[1;32mreturn\u001b[0m \u001b[0marray\u001b[0m\u001b[1;33m(\u001b[0m\u001b[0ma\u001b[0m\u001b[1;33m,\u001b[0m \u001b[0mdtype\u001b[0m\u001b[1;33m,\u001b[0m \u001b[0mcopy\u001b[0m\u001b[1;33m=\u001b[0m\u001b[1;32mFalse\u001b[0m\u001b[1;33m,\u001b[0m \u001b[0morder\u001b[0m\u001b[1;33m=\u001b[0m\u001b[0morder\u001b[0m\u001b[1;33m)\u001b[0m\u001b[1;33m\u001b[0m\u001b[1;33m\u001b[0m\u001b[0m\n\u001b[0m\u001b[0;32m    103\u001b[0m \u001b[1;33m\u001b[0m\u001b[0m\n\u001b[0;32m    104\u001b[0m \u001b[1;33m\u001b[0m\u001b[0m\n",
      "\u001b[1;32m~\\anaconda3\\lib\\site-packages\\pandas\\core\\generic.py\u001b[0m in \u001b[0;36m__array__\u001b[1;34m(self, dtype)\u001b[0m\n\u001b[0;32m   1897\u001b[0m \u001b[1;33m\u001b[0m\u001b[0m\n\u001b[0;32m   1898\u001b[0m     \u001b[1;32mdef\u001b[0m \u001b[0m__array__\u001b[0m\u001b[1;33m(\u001b[0m\u001b[0mself\u001b[0m\u001b[1;33m,\u001b[0m \u001b[0mdtype\u001b[0m\u001b[1;33m=\u001b[0m\u001b[1;32mNone\u001b[0m\u001b[1;33m)\u001b[0m \u001b[1;33m->\u001b[0m \u001b[0mnp\u001b[0m\u001b[1;33m.\u001b[0m\u001b[0mndarray\u001b[0m\u001b[1;33m:\u001b[0m\u001b[1;33m\u001b[0m\u001b[1;33m\u001b[0m\u001b[0m\n\u001b[1;32m-> 1899\u001b[1;33m         \u001b[1;32mreturn\u001b[0m \u001b[0mnp\u001b[0m\u001b[1;33m.\u001b[0m\u001b[0masarray\u001b[0m\u001b[1;33m(\u001b[0m\u001b[0mself\u001b[0m\u001b[1;33m.\u001b[0m\u001b[0m_values\u001b[0m\u001b[1;33m,\u001b[0m \u001b[0mdtype\u001b[0m\u001b[1;33m=\u001b[0m\u001b[0mdtype\u001b[0m\u001b[1;33m)\u001b[0m\u001b[1;33m\u001b[0m\u001b[1;33m\u001b[0m\u001b[0m\n\u001b[0m\u001b[0;32m   1900\u001b[0m \u001b[1;33m\u001b[0m\u001b[0m\n\u001b[0;32m   1901\u001b[0m     def __array_wrap__(\n",
      "\u001b[1;32m~\\anaconda3\\lib\\site-packages\\numpy\\core\\_asarray.py\u001b[0m in \u001b[0;36masarray\u001b[1;34m(a, dtype, order, like)\u001b[0m\n\u001b[0;32m    100\u001b[0m         \u001b[1;32mreturn\u001b[0m \u001b[0m_asarray_with_like\u001b[0m\u001b[1;33m(\u001b[0m\u001b[0ma\u001b[0m\u001b[1;33m,\u001b[0m \u001b[0mdtype\u001b[0m\u001b[1;33m=\u001b[0m\u001b[0mdtype\u001b[0m\u001b[1;33m,\u001b[0m \u001b[0morder\u001b[0m\u001b[1;33m=\u001b[0m\u001b[0morder\u001b[0m\u001b[1;33m,\u001b[0m \u001b[0mlike\u001b[0m\u001b[1;33m=\u001b[0m\u001b[0mlike\u001b[0m\u001b[1;33m)\u001b[0m\u001b[1;33m\u001b[0m\u001b[1;33m\u001b[0m\u001b[0m\n\u001b[0;32m    101\u001b[0m \u001b[1;33m\u001b[0m\u001b[0m\n\u001b[1;32m--> 102\u001b[1;33m     \u001b[1;32mreturn\u001b[0m \u001b[0marray\u001b[0m\u001b[1;33m(\u001b[0m\u001b[0ma\u001b[0m\u001b[1;33m,\u001b[0m \u001b[0mdtype\u001b[0m\u001b[1;33m,\u001b[0m \u001b[0mcopy\u001b[0m\u001b[1;33m=\u001b[0m\u001b[1;32mFalse\u001b[0m\u001b[1;33m,\u001b[0m \u001b[0morder\u001b[0m\u001b[1;33m=\u001b[0m\u001b[0morder\u001b[0m\u001b[1;33m)\u001b[0m\u001b[1;33m\u001b[0m\u001b[1;33m\u001b[0m\u001b[0m\n\u001b[0m\u001b[0;32m    103\u001b[0m \u001b[1;33m\u001b[0m\u001b[0m\n\u001b[0;32m    104\u001b[0m \u001b[1;33m\u001b[0m\u001b[0m\n",
      "\u001b[1;31mValueError\u001b[0m: could not convert string to float: 'F'"
     ]
    }
   ],
   "source": [
    "from sklearn.ensemble import RandomForestClassifier\n",
    "\n",
    "from sklearn.metrics import accuracy_score,confusion_matrix,classification_report\n",
    "classifier=RandomForestClassifier()\n",
    "classifier.fit(X_train,y_train)\n",
    "y_pred=classifier.predict(X_test)\n",
    "print(confusion_matrix(y_test,y_pred))\n",
    "print(accuracy_score(y_test,y_pred))\n",
    "print(classification_report(y_test,y_pred))"
   ]
  },
  {
   "cell_type": "code",
   "execution_count": 36,
   "id": "880f20cb",
   "metadata": {},
   "outputs": [],
   "source": [
    "df_test=pd.read_csv('datasets/train.csv',index_col=False)"
   ]
  },
  {
   "cell_type": "code",
   "execution_count": 37,
   "id": "3b13d948",
   "metadata": {},
   "outputs": [
    {
     "data": {
      "text/plain": [
       "Index(['id', 'gender', 's11', 's12', 's13', 's16', 's17', 's18', 's48', 's52',\n",
       "       's53', 's54', 's55', 's56', 's57', 's58', 's59', 's69', 's70', 's71',\n",
       "       'n1', 'n2', 'n3', 'n4', 'n5', 'n6', 'n7', 'n8', 'n9', 'n10', 'n11',\n",
       "       'n12', 'n13', 'n14', 'n15', 'label'],\n",
       "      dtype='object')"
      ]
     },
     "execution_count": 37,
     "metadata": {},
     "output_type": "execute_result"
    }
   ],
   "source": [
    "df_test.columns"
   ]
  },
  {
   "cell_type": "code",
   "execution_count": 38,
   "id": "93c4671e",
   "metadata": {
    "scrolled": true
   },
   "outputs": [
    {
     "data": {
      "text/plain": [
       "<AxesSubplot:xlabel='n11'>"
      ]
     },
     "execution_count": 38,
     "metadata": {},
     "output_type": "execute_result"
    },
    {
     "data": {
      "image/png": "[encoded data removed]",
      "text/plain": [
       "<Figure size 432x288 with 1 Axes>"
      ]
     },
     "metadata": {
      "needs_background": "light"
     },
     "output_type": "display_data"
    }
   ],
   "source": [
    "\n",
    "sns.boxplot(x=df['n11'],data=df)"
   ]
  },
  {
   "cell_type": "code",
   "execution_count": 49,
   "id": "6548d080",
   "metadata": {},
   "outputs": [
    {
     "name": "stdout",
     "output_type": "stream",
     "text": [
      "n1\n",
      "n2\n",
      "n3\n",
      "n4\n"
     ]
    },
    {
     "data": {
      "image/png": "[encoded data removed]",
      "text/plain": [
       "<Figure size 432x288 with 1 Axes>"
      ]
     },
     "metadata": {
      "needs_background": "light"
     },
     "output_type": "display_data"
    }
   ],
   "source": [
    "selected_columns=['n1', 'n2', 'n3', 'n4']\n",
    "#        'n5', 'n6', 'n7', 'n8', 'n9', 'n10', 'n11', 'n12', 'n13', 'n14', 'n15']\n",
    "                  \n",
    "def boxplot_outlier(dataframe):\n",
    "    for i in selected_columns:\n",
    "         print(i)\n",
    "         sns.boxplot(x=dataframe[i],data=dataframe)\n",
    "        \n",
    "boxplot_outlier(df)"
   ]
  }
 ],
 "metadata": {
  "kernelspec": {
   "display_name": "Python 3",
   "language": "python",
   "name": "python3"
  },
  "language_info": {
   "codemirror_mode": {
    "name": "ipython",
    "version": 3
   },
   "file_extension": ".py",
   "mimetype": "text/x-python",
   "name": "python",
   "nbconvert_exporter": "python",
   "pygments_lexer": "ipython3",
   "version": "3.8.8"
  }
 },
 "nbformat": 4,
 "nbformat_minor": 5
}
